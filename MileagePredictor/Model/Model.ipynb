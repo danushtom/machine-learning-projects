{
 "cells": [
  {
   "cell_type": "code",
   "execution_count": 2,
   "metadata": {},
   "outputs": [],
   "source": [
    "import pandas as pd\n",
    "import numpy as np\n",
    "from sklearn import pipeline, preprocessing, metrics, model_selection, ensemble\n",
    "from sklearn_pandas import DataFrameMapper"
   ]
  },
  {
   "cell_type": "code",
   "execution_count": 3,
   "metadata": {},
   "outputs": [],
   "source": [
    "data = pd.read_csv('auto-mpg.csv')"
   ]
  },
  {
   "cell_type": "code",
   "execution_count": 4,
   "metadata": {},
   "outputs": [
    {
     "data": {
      "text/html": [
       "<div>\n",
       "<style scoped>\n",
       "    .dataframe tbody tr th:only-of-type {\n",
       "        vertical-align: middle;\n",
       "    }\n",
       "\n",
       "    .dataframe tbody tr th {\n",
       "        vertical-align: top;\n",
       "    }\n",
       "\n",
       "    .dataframe thead th {\n",
       "        text-align: right;\n",
       "    }\n",
       "</style>\n",
       "<table border=\"1\" class=\"dataframe\">\n",
       "  <thead>\n",
       "    <tr style=\"text-align: right;\">\n",
       "      <th></th>\n",
       "      <th>mpg</th>\n",
       "      <th>cylinders</th>\n",
       "      <th>displacement</th>\n",
       "      <th>horsepower</th>\n",
       "      <th>weight</th>\n",
       "      <th>acceleration</th>\n",
       "      <th>model year</th>\n",
       "      <th>origin</th>\n",
       "      <th>car name</th>\n",
       "    </tr>\n",
       "  </thead>\n",
       "  <tbody>\n",
       "    <tr>\n",
       "      <th>0</th>\n",
       "      <td>18.0</td>\n",
       "      <td>8</td>\n",
       "      <td>307.0</td>\n",
       "      <td>130</td>\n",
       "      <td>3504</td>\n",
       "      <td>12.0</td>\n",
       "      <td>70</td>\n",
       "      <td>1</td>\n",
       "      <td>chevrolet chevelle malibu</td>\n",
       "    </tr>\n",
       "    <tr>\n",
       "      <th>1</th>\n",
       "      <td>15.0</td>\n",
       "      <td>8</td>\n",
       "      <td>350.0</td>\n",
       "      <td>165</td>\n",
       "      <td>3693</td>\n",
       "      <td>11.5</td>\n",
       "      <td>70</td>\n",
       "      <td>1</td>\n",
       "      <td>buick skylark 320</td>\n",
       "    </tr>\n",
       "    <tr>\n",
       "      <th>2</th>\n",
       "      <td>18.0</td>\n",
       "      <td>8</td>\n",
       "      <td>318.0</td>\n",
       "      <td>150</td>\n",
       "      <td>3436</td>\n",
       "      <td>11.0</td>\n",
       "      <td>70</td>\n",
       "      <td>1</td>\n",
       "      <td>plymouth satellite</td>\n",
       "    </tr>\n",
       "    <tr>\n",
       "      <th>3</th>\n",
       "      <td>16.0</td>\n",
       "      <td>8</td>\n",
       "      <td>304.0</td>\n",
       "      <td>150</td>\n",
       "      <td>3433</td>\n",
       "      <td>12.0</td>\n",
       "      <td>70</td>\n",
       "      <td>1</td>\n",
       "      <td>amc rebel sst</td>\n",
       "    </tr>\n",
       "    <tr>\n",
       "      <th>4</th>\n",
       "      <td>17.0</td>\n",
       "      <td>8</td>\n",
       "      <td>302.0</td>\n",
       "      <td>140</td>\n",
       "      <td>3449</td>\n",
       "      <td>10.5</td>\n",
       "      <td>70</td>\n",
       "      <td>1</td>\n",
       "      <td>ford torino</td>\n",
       "    </tr>\n",
       "  </tbody>\n",
       "</table>\n",
       "</div>"
      ],
      "text/plain": [
       "    mpg  cylinders  displacement horsepower  weight  acceleration  model year  \\\n",
       "0  18.0          8         307.0        130    3504          12.0          70   \n",
       "1  15.0          8         350.0        165    3693          11.5          70   \n",
       "2  18.0          8         318.0        150    3436          11.0          70   \n",
       "3  16.0          8         304.0        150    3433          12.0          70   \n",
       "4  17.0          8         302.0        140    3449          10.5          70   \n",
       "\n",
       "   origin                   car name  \n",
       "0       1  chevrolet chevelle malibu  \n",
       "1       1          buick skylark 320  \n",
       "2       1         plymouth satellite  \n",
       "3       1              amc rebel sst  \n",
       "4       1                ford torino  "
      ]
     },
     "execution_count": 4,
     "metadata": {},
     "output_type": "execute_result"
    }
   ],
   "source": [
    "data.head()"
   ]
  },
  {
   "cell_type": "code",
   "execution_count": 6,
   "metadata": {},
   "outputs": [
    {
     "data": {
      "text/plain": [
       "mpg             0\n",
       "cylinders       0\n",
       "displacement    0\n",
       "horsepower      0\n",
       "weight          0\n",
       "acceleration    0\n",
       "model year      0\n",
       "origin          0\n",
       "car name        0\n",
       "dtype: int64"
      ]
     },
     "execution_count": 6,
     "metadata": {},
     "output_type": "execute_result"
    }
   ],
   "source": [
    "data.isnull().sum()"
   ]
  },
  {
   "cell_type": "code",
   "execution_count": 8,
   "metadata": {},
   "outputs": [],
   "source": [
    "from sklearn.impute import SimpleImputer\n",
    "mapper = DataFrameMapper([\n",
    "                        (['cylinders','displacement','weight','acceleration','model year'], preprocessing.StandardScaler()),\n",
    "                        (['origin'], preprocessing.OneHotEncoder())\n",
    "                        ])"
   ]
  },
  {
   "cell_type": "code",
   "execution_count": 9,
   "metadata": {},
   "outputs": [],
   "source": [
    "imp = SimpleImputer(missing_values=np.nan, strategy='mean')"
   ]
  },
  {
   "cell_type": "code",
   "execution_count": 10,
   "metadata": {},
   "outputs": [],
   "source": [
    "pipelineObj = pipeline.Pipeline([\n",
    "    ('mapper',mapper),\n",
    "    ('model',ensemble.RandomForestRegressor())\n",
    "])"
   ]
  },
  {
   "cell_type": "code",
   "execution_count": 11,
   "metadata": {},
   "outputs": [
    {
     "data": {
      "text/plain": [
       "Index(['mpg', 'cylinders', 'displacement', 'horsepower', 'weight',\n",
       "       'acceleration', 'model year', 'origin', 'car name'],\n",
       "      dtype='object')"
      ]
     },
     "execution_count": 11,
     "metadata": {},
     "output_type": "execute_result"
    }
   ],
   "source": [
    "data.columns"
   ]
  },
  {
   "cell_type": "code",
   "execution_count": 13,
   "metadata": {},
   "outputs": [],
   "source": [
    "x = ['cylinders', 'displacement', 'horsepower', 'weight',\n",
    "       'acceleration', 'model year', 'origin']\n",
    "y = ['mpg']"
   ]
  },
  {
   "cell_type": "code",
   "execution_count": 14,
   "metadata": {},
   "outputs": [
    {
     "name": "stderr",
     "output_type": "stream",
     "text": [
      "C:\\Users\\ashis\\.conda\\envs\\tf1\\lib\\site-packages\\sklearn\\pipeline.py:346: DataConversionWarning: A column-vector y was passed when a 1d array was expected. Please change the shape of y to (n_samples,), for example using ravel().\n",
      "  self._final_estimator.fit(Xt, y, **fit_params_last_step)\n"
     ]
    },
    {
     "data": {
      "text/plain": [
       "Pipeline(steps=[('mapper',\n",
       "                 DataFrameMapper(drop_cols=[],\n",
       "                                 features=[(['cylinders', 'displacement',\n",
       "                                             'weight', 'acceleration',\n",
       "                                             'model year'],\n",
       "                                            StandardScaler()),\n",
       "                                           (['origin'], OneHotEncoder())])),\n",
       "                ('model', RandomForestRegressor())])"
      ]
     },
     "execution_count": 14,
     "metadata": {},
     "output_type": "execute_result"
    }
   ],
   "source": [
    "pipelineObj.fit(data[x],data[y])"
   ]
  },
  {
   "cell_type": "code",
   "execution_count": 15,
   "metadata": {},
   "outputs": [
    {
     "data": {
      "text/plain": [
       "array([17.26 , 14.84 , 17.09 , 16.361, 16.661, 14.57 , 13.98 , 14.18 ,\n",
       "       13.46 , 14.72 , 14.8  , 14.512, 14.9  , 14.52 , 23.908, 21.08 ,\n",
       "       18.98 , 20.79 , 27.09 , 26.781, 24.27 , 24.22 , 24.69 , 25.14 ,\n",
       "       20.41 , 10.93 , 10.965, 11.795,  9.87 , 27.16 , 26.705, 24.844,\n",
       "       26.145, 19.514, 16.932, 17.641, 18.621, 18.1  , 13.965, 13.51 ,\n",
       "       14.02 , 14.1  , 12.09 , 12.79 , 12.54 , 18.06 , 21.77 , 18.681,\n",
       "       18.26 , 23.605, 27.12 , 29.46 , 29.495, 31.44 , 33.38 , 27.19 ,\n",
       "       26.586, 24.497, 25.58 , 22.735, 20.53 , 22.38 , 13.4  , 13.57 ,\n",
       "       14.55 , 13.99 , 16.14 , 11.78 , 12.74 , 12.38 , 13.125, 20.63 ,\n",
       "       14.865, 13.58 , 13.24 , 14.06 , 19.02 , 22.311, 20.796, 26.02 ,\n",
       "       22.511, 26.52 , 22.723, 27.02 , 26.78 , 13.52 , 14.62 , 13.48 ,\n",
       "       14.1  , 14.764, 12.03 , 13.155, 13.085, 14.   , 12.5  , 12.05 ,\n",
       "       13.38 , 18.606, 16.28 , 18.328, 17.783, 21.902, 26.376, 11.45 ,\n",
       "       12.19 , 12.84 , 12.37 , 18.34 , 22.39 , 20.84 , 22.979, 22.14 ,\n",
       "       20.47 , 21.394, 25.94 , 14.3  , 15.17 , 28.31 , 24.76 , 21.11 ,\n",
       "       19.822, 15.153, 23.03 , 20.358, 12.49 , 20.117, 20.894, 19.42 ,\n",
       "       16.01 , 31.073, 25.254, 31.126, 24.976, 15.72 , 15.975, 17.675,\n",
       "       15.41 , 13.525, 14.01 , 13.77 , 14.27 , 27.6  , 27.31 , 26.303,\n",
       "       31.761, 31.67 , 27.66 , 25.615, 25.66 , 24.06 , 25.125, 29.98 ,\n",
       "       19.352, 17.557, 15.791, 15.977, 15.225, 15.025, 15.515, 14.425,\n",
       "       17.024, 16.13 , 15.555, 17.135, 20.567, 18.973, 14.884, 28.43 ,\n",
       "       23.578, 19.941, 22.776, 23.929, 25.469, 24.085, 18.992, 28.735,\n",
       "       19.043, 23.323, 22.161, 21.058, 24.162, 32.605, 26.684, 25.027,\n",
       "       25.117, 25.998, 26.995, 16.73 , 15.83 , 15.165, 14.82 , 21.403,\n",
       "       20.792, 22.915, 21.503, 29.506, 25.58 , 29.03 , 32.77 , 19.54 ,\n",
       "       18.245, 18.445, 18.182, 29.435, 31.755, 28.115, 25.765, 20.196,\n",
       "       13.865, 19.783, 19.658, 16.987, 16.025, 13.73 , 13.857, 13.534,\n",
       "       31.529, 29.39 , 34.187, 25.745, 33.052, 16.661, 16.76 , 15.627,\n",
       "       15.315, 17.859, 20.484, 19.041, 18.267, 15.755, 15.583, 15.67 ,\n",
       "       15.704, 30.177, 24.243, 25.885, 24.626, 30.895, 32.298, 30.777,\n",
       "       29.822, 21.833, 22.574, 22.555, 40.979, 35.407, 33.855, 37.158,\n",
       "       35.582, 19.517, 18.663, 19.432, 19.149, 20.263, 20.601, 24.674,\n",
       "       20.298, 19.834, 20.353, 20.843, 18.787, 18.635, 19.306, 18.261,\n",
       "       18.034, 17.126, 30.394, 25.929, 27.209, 29.779, 22.981, 23.403,\n",
       "       22.922, 24.556, 21.172, 17.766, 21.889, 17.034, 32.678, 30.64 ,\n",
       "       21.319, 21.12 , 23.542, 20.333, 20.57 , 17.464, 18.21 , 16.867,\n",
       "       17.969, 16.586, 16.124, 19.958, 17.639, 34.087, 34.057, 35.219,\n",
       "       27.764, 25.367, 21.17 , 27.414, 22.924, 34.754, 34.533, 33.704,\n",
       "       37.047, 28.003, 27.716, 26.712, 31.548, 38.846, 37.176, 33.44 ,\n",
       "       37.445, 27.817, 25.423, 24.593, 19.975, 34.427, 30.121, 31.715,\n",
       "       35.238, 32.697, 42.846, 27.315, 40.973, 43.758, 39.688, 33.094,\n",
       "       29.02 , 40.227, 39.137, 34.755, 33.734, 30.359, 28.372, 34.213,\n",
       "       24.074, 32.526, 28.513, 26.974, 26.356, 24.497, 31.107, 38.302,\n",
       "       38.325, 36.352, 33.982, 36.999, 36.818, 34.622, 34.585, 34.57 ,\n",
       "       31.768, 33.988, 34.106, 34.079, 32.608, 32.295, 31.435, 28.511,\n",
       "       28.417, 25.878, 25.955, 22.111, 24.493, 22.392, 19.222, 28.713,\n",
       "       27.877, 32.866, 29.963, 29.259, 27.027, 24.878, 24.104, 35.715,\n",
       "       36.091, 32.848, 37.494, 36.057, 35.847, 35.378, 33.846, 36.127,\n",
       "       33.612, 36.456, 24.953, 31.239, 27.066, 24.71 , 30.855, 34.187,\n",
       "       25.828, 26.798, 42.957, 32.241, 27.997, 29.497])"
      ]
     },
     "execution_count": 15,
     "metadata": {},
     "output_type": "execute_result"
    }
   ],
   "source": [
    "pipelineObj.predict(data[x])"
   ]
  },
  {
   "cell_type": "code",
   "execution_count": 16,
   "metadata": {},
   "outputs": [
    {
     "data": {
      "text/html": [
       "<div>\n",
       "<style scoped>\n",
       "    .dataframe tbody tr th:only-of-type {\n",
       "        vertical-align: middle;\n",
       "    }\n",
       "\n",
       "    .dataframe tbody tr th {\n",
       "        vertical-align: top;\n",
       "    }\n",
       "\n",
       "    .dataframe thead th {\n",
       "        text-align: right;\n",
       "    }\n",
       "</style>\n",
       "<table border=\"1\" class=\"dataframe\">\n",
       "  <thead>\n",
       "    <tr style=\"text-align: right;\">\n",
       "      <th></th>\n",
       "      <th>mpg</th>\n",
       "    </tr>\n",
       "  </thead>\n",
       "  <tbody>\n",
       "    <tr>\n",
       "      <th>0</th>\n",
       "      <td>18.0</td>\n",
       "    </tr>\n",
       "    <tr>\n",
       "      <th>1</th>\n",
       "      <td>15.0</td>\n",
       "    </tr>\n",
       "    <tr>\n",
       "      <th>2</th>\n",
       "      <td>18.0</td>\n",
       "    </tr>\n",
       "    <tr>\n",
       "      <th>3</th>\n",
       "      <td>16.0</td>\n",
       "    </tr>\n",
       "    <tr>\n",
       "      <th>4</th>\n",
       "      <td>17.0</td>\n",
       "    </tr>\n",
       "    <tr>\n",
       "      <th>...</th>\n",
       "      <td>...</td>\n",
       "    </tr>\n",
       "    <tr>\n",
       "      <th>393</th>\n",
       "      <td>27.0</td>\n",
       "    </tr>\n",
       "    <tr>\n",
       "      <th>394</th>\n",
       "      <td>44.0</td>\n",
       "    </tr>\n",
       "    <tr>\n",
       "      <th>395</th>\n",
       "      <td>32.0</td>\n",
       "    </tr>\n",
       "    <tr>\n",
       "      <th>396</th>\n",
       "      <td>28.0</td>\n",
       "    </tr>\n",
       "    <tr>\n",
       "      <th>397</th>\n",
       "      <td>31.0</td>\n",
       "    </tr>\n",
       "  </tbody>\n",
       "</table>\n",
       "<p>398 rows × 1 columns</p>\n",
       "</div>"
      ],
      "text/plain": [
       "      mpg\n",
       "0    18.0\n",
       "1    15.0\n",
       "2    18.0\n",
       "3    16.0\n",
       "4    17.0\n",
       "..    ...\n",
       "393  27.0\n",
       "394  44.0\n",
       "395  32.0\n",
       "396  28.0\n",
       "397  31.0\n",
       "\n",
       "[398 rows x 1 columns]"
      ]
     },
     "execution_count": 16,
     "metadata": {},
     "output_type": "execute_result"
    }
   ],
   "source": [
    "data[y]"
   ]
  },
  {
   "cell_type": "code",
   "execution_count": 19,
   "metadata": {},
   "outputs": [],
   "source": [
    "import joblib"
   ]
  },
  {
   "cell_type": "code",
   "execution_count": 20,
   "metadata": {},
   "outputs": [
    {
     "data": {
      "text/plain": [
       "['ModelForMPG.pkl']"
      ]
     },
     "execution_count": 20,
     "metadata": {},
     "output_type": "execute_result"
    }
   ],
   "source": [
    "joblib.dump(pipelineObj,'ModelForMPG.pkl')"
   ]
  },
  {
   "cell_type": "code",
   "execution_count": 21,
   "metadata": {},
   "outputs": [],
   "source": [
    "model = joblib.load('ModelForMPG.pkl')"
   ]
  },
  {
   "cell_type": "code",
   "execution_count": 36,
   "metadata": {},
   "outputs": [
    {
     "name": "stdout",
     "output_type": "stream",
     "text": [
      "[17.26  14.84  17.09  16.361 16.661]\n"
     ]
    }
   ],
   "source": [
    "\n",
    "print(model.predict(data[x][:5]))"
   ]
  },
  {
   "cell_type": "code",
   "execution_count": 37,
   "metadata": {},
   "outputs": [
    {
     "name": "stdout",
     "output_type": "stream",
     "text": [
      "    mpg\n",
      "0  18.0\n",
      "1  15.0\n",
      "2  18.0\n",
      "3  16.0\n",
      "4  17.0\n"
     ]
    }
   ],
   "source": [
    "print(data[y][:5])"
   ]
  },
  {
   "cell_type": "code",
   "execution_count": null,
   "metadata": {},
   "outputs": [],
   "source": []
  }
 ],
 "metadata": {
  "kernelspec": {
   "display_name": "tf1",
   "language": "python",
   "name": "tf1"
  },
  "language_info": {
   "codemirror_mode": {
    "name": "ipython",
    "version": 3
   },
   "file_extension": ".py",
   "mimetype": "text/x-python",
   "name": "python",
   "nbconvert_exporter": "python",
   "pygments_lexer": "ipython3",
   "version": "3.6.9"
  }
 },
 "nbformat": 4,
 "nbformat_minor": 4
}
