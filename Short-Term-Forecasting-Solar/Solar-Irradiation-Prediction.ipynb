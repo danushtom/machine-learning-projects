{
 "cells": [
  {
   "cell_type": "code",
   "execution_count": 1,
   "metadata": {},
   "outputs": [],
   "source": [
    "# importing libraries\n",
    "import numpy as np\n",
    "import matplotlib.pyplot as plt\n",
    "import pandas  as pd\n",
    "import seaborn as sns\n",
    "from pylab import rcParams\n",
    "\n",
    "# Reading the CSV file (Excluding unnecessary)\n",
    "df = pd.read_excel('correlation.xlsx') "
   ]
  },
  {
   "cell_type": "code",
   "execution_count": 2,
   "metadata": {},
   "outputs": [
    {
     "data": {
      "text/html": [
       "<div>\n",
       "<style scoped>\n",
       "    .dataframe tbody tr th:only-of-type {\n",
       "        vertical-align: middle;\n",
       "    }\n",
       "\n",
       "    .dataframe tbody tr th {\n",
       "        vertical-align: top;\n",
       "    }\n",
       "\n",
       "    .dataframe thead th {\n",
       "        text-align: right;\n",
       "    }\n",
       "</style>\n",
       "<table border=\"1\" class=\"dataframe\">\n",
       "  <thead>\n",
       "    <tr style=\"text-align: right;\">\n",
       "      <th></th>\n",
       "      <th>DHI</th>\n",
       "      <th>DNI</th>\n",
       "      <th>GHI</th>\n",
       "      <th>Clearsky DHI</th>\n",
       "      <th>Clearsky DNI</th>\n",
       "      <th>Clearsky GHI</th>\n",
       "      <th>Dew Point</th>\n",
       "      <th>Temperature</th>\n",
       "      <th>Pressure</th>\n",
       "      <th>Relative Humidity</th>\n",
       "      <th>Solar Zenith Angle</th>\n",
       "      <th>Precipitable Water</th>\n",
       "      <th>Wind Direction</th>\n",
       "      <th>Wind Speed</th>\n",
       "    </tr>\n",
       "  </thead>\n",
       "  <tbody>\n",
       "    <tr>\n",
       "      <th>0</th>\n",
       "      <td>0</td>\n",
       "      <td>0</td>\n",
       "      <td>0</td>\n",
       "      <td>0</td>\n",
       "      <td>0</td>\n",
       "      <td>0</td>\n",
       "      <td>-9</td>\n",
       "      <td>13.581591</td>\n",
       "      <td>1008.810547</td>\n",
       "      <td>19.541779</td>\n",
       "      <td>175.426075</td>\n",
       "      <td>0.852396</td>\n",
       "      <td>34.980015</td>\n",
       "      <td>4.631629</td>\n",
       "    </tr>\n",
       "    <tr>\n",
       "      <th>1</th>\n",
       "      <td>0</td>\n",
       "      <td>0</td>\n",
       "      <td>0</td>\n",
       "      <td>0</td>\n",
       "      <td>0</td>\n",
       "      <td>0</td>\n",
       "      <td>-8</td>\n",
       "      <td>12.971451</td>\n",
       "      <td>1008.642273</td>\n",
       "      <td>22.111106</td>\n",
       "      <td>170.489325</td>\n",
       "      <td>0.939051</td>\n",
       "      <td>39.538811</td>\n",
       "      <td>4.588306</td>\n",
       "    </tr>\n",
       "    <tr>\n",
       "      <th>2</th>\n",
       "      <td>0</td>\n",
       "      <td>0</td>\n",
       "      <td>0</td>\n",
       "      <td>0</td>\n",
       "      <td>0</td>\n",
       "      <td>0</td>\n",
       "      <td>-6</td>\n",
       "      <td>12.591979</td>\n",
       "      <td>1008.118042</td>\n",
       "      <td>24.938856</td>\n",
       "      <td>156.868621</td>\n",
       "      <td>1.038007</td>\n",
       "      <td>41.236214</td>\n",
       "      <td>4.422552</td>\n",
       "    </tr>\n",
       "    <tr>\n",
       "      <th>3</th>\n",
       "      <td>0</td>\n",
       "      <td>0</td>\n",
       "      <td>0</td>\n",
       "      <td>0</td>\n",
       "      <td>0</td>\n",
       "      <td>0</td>\n",
       "      <td>-5</td>\n",
       "      <td>12.473316</td>\n",
       "      <td>1008.183594</td>\n",
       "      <td>27.307565</td>\n",
       "      <td>143.264497</td>\n",
       "      <td>1.136777</td>\n",
       "      <td>41.599117</td>\n",
       "      <td>4.183402</td>\n",
       "    </tr>\n",
       "    <tr>\n",
       "      <th>4</th>\n",
       "      <td>0</td>\n",
       "      <td>0</td>\n",
       "      <td>0</td>\n",
       "      <td>0</td>\n",
       "      <td>0</td>\n",
       "      <td>0</td>\n",
       "      <td>-4</td>\n",
       "      <td>12.311568</td>\n",
       "      <td>1008.492859</td>\n",
       "      <td>29.846112</td>\n",
       "      <td>129.769232</td>\n",
       "      <td>1.233159</td>\n",
       "      <td>42.024220</td>\n",
       "      <td>3.954292</td>\n",
       "    </tr>\n",
       "  </tbody>\n",
       "</table>\n",
       "</div>"
      ],
      "text/plain": [
       "   DHI  DNI  GHI  Clearsky DHI  Clearsky DNI  Clearsky GHI  Dew Point  \\\n",
       "0    0    0    0             0             0             0         -9   \n",
       "1    0    0    0             0             0             0         -8   \n",
       "2    0    0    0             0             0             0         -6   \n",
       "3    0    0    0             0             0             0         -5   \n",
       "4    0    0    0             0             0             0         -4   \n",
       "\n",
       "   Temperature     Pressure  Relative Humidity  Solar Zenith Angle  \\\n",
       "0    13.581591  1008.810547          19.541779          175.426075   \n",
       "1    12.971451  1008.642273          22.111106          170.489325   \n",
       "2    12.591979  1008.118042          24.938856          156.868621   \n",
       "3    12.473316  1008.183594          27.307565          143.264497   \n",
       "4    12.311568  1008.492859          29.846112          129.769232   \n",
       "\n",
       "   Precipitable Water  Wind Direction  Wind Speed  \n",
       "0            0.852396       34.980015    4.631629  \n",
       "1            0.939051       39.538811    4.588306  \n",
       "2            1.038007       41.236214    4.422552  \n",
       "3            1.136777       41.599117    4.183402  \n",
       "4            1.233159       42.024220    3.954292  "
      ]
     },
     "execution_count": 2,
     "metadata": {},
     "output_type": "execute_result"
    }
   ],
   "source": [
    "df.head()"
   ]
  },
  {
   "cell_type": "code",
   "execution_count": 2,
   "metadata": {},
   "outputs": [],
   "source": [
    "X_train = df.drop(['GHI'],axis=1).iloc[:7008]\n",
    "y_train = df['GHI'].iloc[:7008]\n",
    "X_test = df.drop(['GHI'],axis=1).iloc[7008:]\n",
    "y_test = df['GHI'].iloc[7008:]"
   ]
  },
  {
   "cell_type": "code",
   "execution_count": 3,
   "metadata": {},
   "outputs": [
    {
     "data": {
      "text/html": [
       "<div>\n",
       "<style scoped>\n",
       "    .dataframe tbody tr th:only-of-type {\n",
       "        vertical-align: middle;\n",
       "    }\n",
       "\n",
       "    .dataframe tbody tr th {\n",
       "        vertical-align: top;\n",
       "    }\n",
       "\n",
       "    .dataframe thead th {\n",
       "        text-align: right;\n",
       "    }\n",
       "</style>\n",
       "<table border=\"1\" class=\"dataframe\">\n",
       "  <thead>\n",
       "    <tr style=\"text-align: right;\">\n",
       "      <th></th>\n",
       "      <th>DHI</th>\n",
       "      <th>DNI</th>\n",
       "      <th>Clearsky DHI</th>\n",
       "      <th>Clearsky DNI</th>\n",
       "      <th>Clearsky GHI</th>\n",
       "      <th>Dew Point</th>\n",
       "      <th>Temperature</th>\n",
       "      <th>Pressure</th>\n",
       "      <th>Relative Humidity</th>\n",
       "      <th>Solar Zenith Angle</th>\n",
       "      <th>Precipitable Water</th>\n",
       "      <th>Wind Direction</th>\n",
       "      <th>Wind Speed</th>\n",
       "    </tr>\n",
       "  </thead>\n",
       "  <tbody>\n",
       "    <tr>\n",
       "      <th>0</th>\n",
       "      <td>0</td>\n",
       "      <td>0</td>\n",
       "      <td>0</td>\n",
       "      <td>0</td>\n",
       "      <td>0</td>\n",
       "      <td>-9</td>\n",
       "      <td>13.581591</td>\n",
       "      <td>1008.810547</td>\n",
       "      <td>19.541779</td>\n",
       "      <td>175.426075</td>\n",
       "      <td>0.852396</td>\n",
       "      <td>34.980015</td>\n",
       "      <td>4.631629</td>\n",
       "    </tr>\n",
       "    <tr>\n",
       "      <th>1</th>\n",
       "      <td>0</td>\n",
       "      <td>0</td>\n",
       "      <td>0</td>\n",
       "      <td>0</td>\n",
       "      <td>0</td>\n",
       "      <td>-8</td>\n",
       "      <td>12.971451</td>\n",
       "      <td>1008.642273</td>\n",
       "      <td>22.111106</td>\n",
       "      <td>170.489325</td>\n",
       "      <td>0.939051</td>\n",
       "      <td>39.538811</td>\n",
       "      <td>4.588306</td>\n",
       "    </tr>\n",
       "    <tr>\n",
       "      <th>2</th>\n",
       "      <td>0</td>\n",
       "      <td>0</td>\n",
       "      <td>0</td>\n",
       "      <td>0</td>\n",
       "      <td>0</td>\n",
       "      <td>-6</td>\n",
       "      <td>12.591979</td>\n",
       "      <td>1008.118042</td>\n",
       "      <td>24.938856</td>\n",
       "      <td>156.868621</td>\n",
       "      <td>1.038007</td>\n",
       "      <td>41.236214</td>\n",
       "      <td>4.422552</td>\n",
       "    </tr>\n",
       "    <tr>\n",
       "      <th>3</th>\n",
       "      <td>0</td>\n",
       "      <td>0</td>\n",
       "      <td>0</td>\n",
       "      <td>0</td>\n",
       "      <td>0</td>\n",
       "      <td>-5</td>\n",
       "      <td>12.473316</td>\n",
       "      <td>1008.183594</td>\n",
       "      <td>27.307565</td>\n",
       "      <td>143.264497</td>\n",
       "      <td>1.136777</td>\n",
       "      <td>41.599117</td>\n",
       "      <td>4.183402</td>\n",
       "    </tr>\n",
       "    <tr>\n",
       "      <th>4</th>\n",
       "      <td>0</td>\n",
       "      <td>0</td>\n",
       "      <td>0</td>\n",
       "      <td>0</td>\n",
       "      <td>0</td>\n",
       "      <td>-4</td>\n",
       "      <td>12.311568</td>\n",
       "      <td>1008.492859</td>\n",
       "      <td>29.846112</td>\n",
       "      <td>129.769232</td>\n",
       "      <td>1.233159</td>\n",
       "      <td>42.024220</td>\n",
       "      <td>3.954292</td>\n",
       "    </tr>\n",
       "    <tr>\n",
       "      <th>...</th>\n",
       "      <td>...</td>\n",
       "      <td>...</td>\n",
       "      <td>...</td>\n",
       "      <td>...</td>\n",
       "      <td>...</td>\n",
       "      <td>...</td>\n",
       "      <td>...</td>\n",
       "      <td>...</td>\n",
       "      <td>...</td>\n",
       "      <td>...</td>\n",
       "      <td>...</td>\n",
       "      <td>...</td>\n",
       "      <td>...</td>\n",
       "    </tr>\n",
       "    <tr>\n",
       "      <th>8755</th>\n",
       "      <td>0</td>\n",
       "      <td>0</td>\n",
       "      <td>0</td>\n",
       "      <td>0</td>\n",
       "      <td>0</td>\n",
       "      <td>-9</td>\n",
       "      <td>18.350562</td>\n",
       "      <td>1008.352661</td>\n",
       "      <td>14.390068</td>\n",
       "      <td>108.206509</td>\n",
       "      <td>0.677014</td>\n",
       "      <td>7.338570</td>\n",
       "      <td>4.867455</td>\n",
       "    </tr>\n",
       "    <tr>\n",
       "      <th>8756</th>\n",
       "      <td>0</td>\n",
       "      <td>0</td>\n",
       "      <td>0</td>\n",
       "      <td>0</td>\n",
       "      <td>0</td>\n",
       "      <td>-9</td>\n",
       "      <td>17.296847</td>\n",
       "      <td>1008.720520</td>\n",
       "      <td>14.579094</td>\n",
       "      <td>121.356722</td>\n",
       "      <td>0.688613</td>\n",
       "      <td>12.401604</td>\n",
       "      <td>4.864765</td>\n",
       "    </tr>\n",
       "    <tr>\n",
       "      <th>8757</th>\n",
       "      <td>0</td>\n",
       "      <td>0</td>\n",
       "      <td>0</td>\n",
       "      <td>0</td>\n",
       "      <td>0</td>\n",
       "      <td>-10</td>\n",
       "      <td>16.215536</td>\n",
       "      <td>1009.058594</td>\n",
       "      <td>15.106850</td>\n",
       "      <td>134.744441</td>\n",
       "      <td>0.704868</td>\n",
       "      <td>18.850060</td>\n",
       "      <td>4.792336</td>\n",
       "    </tr>\n",
       "    <tr>\n",
       "      <th>8758</th>\n",
       "      <td>0</td>\n",
       "      <td>0</td>\n",
       "      <td>0</td>\n",
       "      <td>0</td>\n",
       "      <td>0</td>\n",
       "      <td>-10</td>\n",
       "      <td>15.223025</td>\n",
       "      <td>1009.192078</td>\n",
       "      <td>16.027620</td>\n",
       "      <td>148.285781</td>\n",
       "      <td>0.734829</td>\n",
       "      <td>24.960045</td>\n",
       "      <td>4.731431</td>\n",
       "    </tr>\n",
       "    <tr>\n",
       "      <th>8759</th>\n",
       "      <td>0</td>\n",
       "      <td>0</td>\n",
       "      <td>0</td>\n",
       "      <td>0</td>\n",
       "      <td>0</td>\n",
       "      <td>-10</td>\n",
       "      <td>14.339655</td>\n",
       "      <td>1008.965271</td>\n",
       "      <td>17.485035</td>\n",
       "      <td>161.910522</td>\n",
       "      <td>0.783473</td>\n",
       "      <td>30.353088</td>\n",
       "      <td>4.681842</td>\n",
       "    </tr>\n",
       "  </tbody>\n",
       "</table>\n",
       "<p>8760 rows × 13 columns</p>\n",
       "</div>"
      ],
      "text/plain": [
       "      DHI  DNI  Clearsky DHI  Clearsky DNI  Clearsky GHI  Dew Point  \\\n",
       "0       0    0             0             0             0         -9   \n",
       "1       0    0             0             0             0         -8   \n",
       "2       0    0             0             0             0         -6   \n",
       "3       0    0             0             0             0         -5   \n",
       "4       0    0             0             0             0         -4   \n",
       "...   ...  ...           ...           ...           ...        ...   \n",
       "8755    0    0             0             0             0         -9   \n",
       "8756    0    0             0             0             0         -9   \n",
       "8757    0    0             0             0             0        -10   \n",
       "8758    0    0             0             0             0        -10   \n",
       "8759    0    0             0             0             0        -10   \n",
       "\n",
       "      Temperature     Pressure  Relative Humidity  Solar Zenith Angle  \\\n",
       "0       13.581591  1008.810547          19.541779          175.426075   \n",
       "1       12.971451  1008.642273          22.111106          170.489325   \n",
       "2       12.591979  1008.118042          24.938856          156.868621   \n",
       "3       12.473316  1008.183594          27.307565          143.264497   \n",
       "4       12.311568  1008.492859          29.846112          129.769232   \n",
       "...           ...          ...                ...                 ...   \n",
       "8755    18.350562  1008.352661          14.390068          108.206509   \n",
       "8756    17.296847  1008.720520          14.579094          121.356722   \n",
       "8757    16.215536  1009.058594          15.106850          134.744441   \n",
       "8758    15.223025  1009.192078          16.027620          148.285781   \n",
       "8759    14.339655  1008.965271          17.485035          161.910522   \n",
       "\n",
       "      Precipitable Water  Wind Direction  Wind Speed  \n",
       "0               0.852396       34.980015    4.631629  \n",
       "1               0.939051       39.538811    4.588306  \n",
       "2               1.038007       41.236214    4.422552  \n",
       "3               1.136777       41.599117    4.183402  \n",
       "4               1.233159       42.024220    3.954292  \n",
       "...                  ...             ...         ...  \n",
       "8755            0.677014        7.338570    4.867455  \n",
       "8756            0.688613       12.401604    4.864765  \n",
       "8757            0.704868       18.850060    4.792336  \n",
       "8758            0.734829       24.960045    4.731431  \n",
       "8759            0.783473       30.353088    4.681842  \n",
       "\n",
       "[8760 rows x 13 columns]"
      ]
     },
     "execution_count": 3,
     "metadata": {},
     "output_type": "execute_result"
    }
   ],
   "source": [
    "df.drop(['GHI'],axis=1).iloc[:]"
   ]
  },
  {
   "cell_type": "code",
   "execution_count": 4,
   "metadata": {},
   "outputs": [
    {
     "name": "stdout",
     "output_type": "stream",
     "text": [
      "      DHI  DNI  Clearsky DHI  Clearsky DNI  Clearsky GHI  Dew Point  \\\n",
      "7008    0    0             0             0             0         16   \n",
      "7009    0    0             0             0             0         16   \n",
      "7010    0    0             0             0             0         16   \n",
      "7011    0    0             0             0             0         16   \n",
      "7012    0    0             0             0             0         16   \n",
      "...   ...  ...           ...           ...           ...        ...   \n",
      "8755    0    0             0             0             0         -9   \n",
      "8756    0    0             0             0             0         -9   \n",
      "8757    0    0             0             0             0        -10   \n",
      "8758    0    0             0             0             0        -10   \n",
      "8759    0    0             0             0             0        -10   \n",
      "\n",
      "      Temperature     Pressure  Relative Humidity  Solar Zenith Angle  \\\n",
      "7008    25.165757  1007.583679          60.117475          165.605304   \n",
      "7009    24.567303  1007.506287          62.435203          159.869545   \n",
      "7010    24.008372  1007.256836          64.434160          148.235896   \n",
      "7011    23.478030  1007.265320          66.235333          135.120952   \n",
      "7012    22.999381  1007.209961          67.696021          121.580967   \n",
      "...           ...          ...                ...                 ...   \n",
      "8755    18.350562  1008.352661          14.390068          108.206509   \n",
      "8756    17.296847  1008.720520          14.579094          121.356722   \n",
      "8757    16.215536  1009.058594          15.106850          134.744441   \n",
      "8758    15.223025  1009.192078          16.027620          148.285781   \n",
      "8759    14.339655  1008.965271          17.485035          161.910522   \n",
      "\n",
      "      Precipitable Water  Wind Direction  Wind Speed  \n",
      "7008            2.094741      148.547211    2.391193  \n",
      "7009            2.127781      153.044418    2.170429  \n",
      "7010            2.153644      158.614594    1.958320  \n",
      "7011            2.169485      165.865936    1.747029  \n",
      "7012            2.180743      174.939667    1.529055  \n",
      "...                  ...             ...         ...  \n",
      "8755            0.677014        7.338570    4.867455  \n",
      "8756            0.688613       12.401604    4.864765  \n",
      "8757            0.704868       18.850060    4.792336  \n",
      "8758            0.734829       24.960045    4.731431  \n",
      "8759            0.783473       30.353088    4.681842  \n",
      "\n",
      "[1752 rows x 13 columns]\n"
     ]
    }
   ],
   "source": [
    "print(X_test)"
   ]
  },
  {
   "cell_type": "code",
   "execution_count": 5,
   "metadata": {},
   "outputs": [
    {
     "name": "stderr",
     "output_type": "stream",
     "text": [
      "C:\\Users\\Dishita Neve\\Anaconda3\\lib\\site-packages\\dask\\dataframe\\utils.py:14: FutureWarning: pandas.util.testing is deprecated. Use the functions in the public API at pandas.testing instead.\n",
      "  import pandas.util.testing as tm\n"
     ]
    }
   ],
   "source": [
    "from sklearn.tree import DecisionTreeRegressor\n",
    "from sklearn.svm import SVR\n",
    "from sklearn.linear_model import LinearRegression\n",
    "from sklearn.ensemble import RandomForestRegressor\n",
    "import xgboost\n",
    "from xgboost import XGBRegressor\n",
    "from sklearn.model_selection import train_test_split\n",
    "from sklearn.model_selection import cross_val_score\n",
    "from sklearn.metrics import accuracy_score,r2_score,mean_squared_error,mean_absolute_error"
   ]
  },
  {
   "cell_type": "markdown",
   "metadata": {},
   "source": [
    "# XG Boost"
   ]
  },
  {
   "cell_type": "code",
   "execution_count": 30,
   "metadata": {},
   "outputs": [
    {
     "data": {
      "text/plain": [
       "XGBRegressor(base_score=0.5, booster='gbtree', colsample_bylevel=1,\n",
       "             colsample_bynode=1, colsample_bytree=1, gamma=0, gpu_id=-1,\n",
       "             importance_type='gain', interaction_constraints='',\n",
       "             learning_rate=0.300000012, max_delta_step=0, max_depth=6,\n",
       "             min_child_weight=1, missing=nan, monotone_constraints='()',\n",
       "             n_estimators=100, n_jobs=0, num_parallel_tree=1, random_state=0,\n",
       "             reg_alpha=0, reg_lambda=1, scale_pos_weight=1, subsample=1,\n",
       "             tree_method='exact', validate_parameters=1, verbosity=None)"
      ]
     },
     "execution_count": 30,
     "metadata": {},
     "output_type": "execute_result"
    }
   ],
   "source": [
    "xgr = XGBRegressor()\n",
    "xgr.fit(X_train,y_train)"
   ]
  },
  {
   "cell_type": "code",
   "execution_count": 31,
   "metadata": {},
   "outputs": [
    {
     "name": "stdout",
     "output_type": "stream",
     "text": [
      "[0.01691788 0.03656393 0.03656393 ... 0.04102212 0.04102212 0.1142951 ]\n"
     ]
    }
   ],
   "source": [
    "Y_pred = xgr.predict(X_test)\n",
    "print(Y_pred)"
   ]
  },
  {
   "cell_type": "code",
   "execution_count": 32,
   "metadata": {},
   "outputs": [
    {
     "data": {
      "text/plain": [
       "0.9999752611067659"
      ]
     },
     "execution_count": 32,
     "metadata": {},
     "output_type": "execute_result"
    }
   ],
   "source": [
    "xgr.score(X_train,y_train)"
   ]
  },
  {
   "cell_type": "code",
   "execution_count": 33,
   "metadata": {},
   "outputs": [
    {
     "data": {
      "text/plain": [
       "0.9992036783276016"
      ]
     },
     "execution_count": 33,
     "metadata": {},
     "output_type": "execute_result"
    }
   ],
   "source": [
    "xgr.score(X_test,y_test)"
   ]
  },
  {
   "cell_type": "code",
   "execution_count": 34,
   "metadata": {},
   "outputs": [
    {
     "name": "stdout",
     "output_type": "stream",
     "text": [
      "XG boost for Test RMSE 7.206513670233647\n",
      "XG boost for Test MSE 51.93383927926443\n",
      "XG boost for Test MAE 3.560014480699415\n"
     ]
    }
   ],
   "source": [
    "## Test RMSE VALUE XG Boost\n",
    "print('XG boost for Test RMSE',np.sqrt(mean_squared_error(y_test,Y_pred)))\n",
    "print('XG boost for Test MSE',mean_squared_error(y_test,Y_pred))\n",
    "print('XG boost for Test MAE',mean_absolute_error(y_test,Y_pred))"
   ]
  },
  {
   "cell_type": "code",
   "execution_count": 14,
   "metadata": {},
   "outputs": [
    {
     "name": "stdout",
     "output_type": "stream",
     "text": [
      "[0.99843316 0.99898673 0.99930251 0.99932557 0.99923026 0.99949762\n",
      " 0.99944295 0.99898003 0.99838043 0.99926562]\n",
      "0.9990844885002257\n",
      "[0.99815657 0.93442132 0.99925137 0.99942896 0.999569   0.99861225\n",
      " 0.99885373 0.99902812 0.9987455  0.99925684]\n",
      "0.992532367056028\n"
     ]
    }
   ],
   "source": [
    "cv_score = cross_val_score(xgr,X_train,y_train,cv=10)\n",
    "print(cv_score)\n",
    "print(cv_score.mean())\n",
    "\n",
    "cv_score = cross_val_score(xgr,X_test,y_test,cv=10)\n",
    "print(cv_score)\n",
    "print(cv_score.mean())"
   ]
  },
  {
   "cell_type": "markdown",
   "metadata": {},
   "source": [
    "# XG Boost RandomSearchCV"
   ]
  },
  {
   "cell_type": "code",
   "execution_count": 11,
   "metadata": {},
   "outputs": [],
   "source": [
    "from sklearn.model_selection import GridSearchCV, RandomizedSearchCV"
   ]
  },
  {
   "cell_type": "code",
   "execution_count": 12,
   "metadata": {},
   "outputs": [],
   "source": [
    "import xgboost\n",
    "regressor=xgboost.XGBRegressor()"
   ]
  },
  {
   "cell_type": "code",
   "execution_count": 13,
   "metadata": {},
   "outputs": [],
   "source": [
    "base_score=[1,1.1,0.85,0.75,0.6]"
   ]
  },
  {
   "cell_type": "code",
   "execution_count": 14,
   "metadata": {},
   "outputs": [],
   "source": [
    "## Hyper Parameter Optimization\n",
    "\n",
    "\n",
    "n_estimators = [1400,1200,1100]\n",
    "max_depth = [7,5,3]\n",
    "learning_rate=[0.08,0.05,0.06]\n",
    "min_child_weight=[8,9,10]\n",
    "\n",
    "# Define the grid of hyperparameters to search\n",
    "hyperparameter_grid = {\n",
    "    'n_estimators': n_estimators,\n",
    "    'max_depth':max_depth,\n",
    "    'learning_rate':learning_rate,\n",
    "    'min_child_weight':min_child_weight,\n",
    "    'base_score':base_score\n",
    "    }"
   ]
  },
  {
   "cell_type": "code",
   "execution_count": 15,
   "metadata": {},
   "outputs": [],
   "source": [
    "# Set up the random search with 4-fold cross validation\n",
    "random_cv = RandomizedSearchCV(estimator=regressor,\n",
    "            param_distributions=hyperparameter_grid,\n",
    "            cv=3, n_iter=50,\n",
    "            scoring = 'neg_mean_absolute_error',\n",
    "            verbose = 5, \n",
    "            return_train_score = True,\n",
    "            random_state=0)"
   ]
  },
  {
   "cell_type": "code",
   "execution_count": 16,
   "metadata": {},
   "outputs": [
    {
     "name": "stdout",
     "output_type": "stream",
     "text": [
      "Fitting 3 folds for each of 50 candidates, totalling 150 fits\n",
      "[CV] n_estimators=1100, min_child_weight=9, max_depth=3, learning_rate=0.06, base_score=0.6 \n"
     ]
    },
    {
     "name": "stderr",
     "output_type": "stream",
     "text": [
      "[Parallel(n_jobs=1)]: Using backend SequentialBackend with 1 concurrent workers.\n"
     ]
    },
    {
     "name": "stdout",
     "output_type": "stream",
     "text": [
      "[CV]  n_estimators=1100, min_child_weight=9, max_depth=3, learning_rate=0.06, base_score=0.6, score=(train=-1.452, test=-8.219), total=   1.1s\n",
      "[CV] n_estimators=1100, min_child_weight=9, max_depth=3, learning_rate=0.06, base_score=0.6 \n"
     ]
    },
    {
     "name": "stderr",
     "output_type": "stream",
     "text": [
      "[Parallel(n_jobs=1)]: Done   1 out of   1 | elapsed:    1.0s remaining:    0.0s\n"
     ]
    },
    {
     "name": "stdout",
     "output_type": "stream",
     "text": [
      "[CV]  n_estimators=1100, min_child_weight=9, max_depth=3, learning_rate=0.06, base_score=0.6, score=(train=-1.432, test=-5.126), total=   1.6s\n",
      "[CV] n_estimators=1100, min_child_weight=9, max_depth=3, learning_rate=0.06, base_score=0.6 \n"
     ]
    },
    {
     "name": "stderr",
     "output_type": "stream",
     "text": [
      "[Parallel(n_jobs=1)]: Done   2 out of   2 | elapsed:    2.7s remaining:    0.0s\n"
     ]
    },
    {
     "name": "stdout",
     "output_type": "stream",
     "text": [
      "[CV]  n_estimators=1100, min_child_weight=9, max_depth=3, learning_rate=0.06, base_score=0.6, score=(train=-1.458, test=-6.346), total=   1.4s\n",
      "[CV] n_estimators=1200, min_child_weight=9, max_depth=3, learning_rate=0.06, base_score=0.85 \n"
     ]
    },
    {
     "name": "stderr",
     "output_type": "stream",
     "text": [
      "[Parallel(n_jobs=1)]: Done   3 out of   3 | elapsed:    4.1s remaining:    0.0s\n"
     ]
    },
    {
     "name": "stdout",
     "output_type": "stream",
     "text": [
      "[CV]  n_estimators=1200, min_child_weight=9, max_depth=3, learning_rate=0.06, base_score=0.85, score=(train=-1.376, test=-8.185), total=   2.0s\n",
      "[CV] n_estimators=1200, min_child_weight=9, max_depth=3, learning_rate=0.06, base_score=0.85 \n"
     ]
    },
    {
     "name": "stderr",
     "output_type": "stream",
     "text": [
      "[Parallel(n_jobs=1)]: Done   4 out of   4 | elapsed:    6.1s remaining:    0.0s\n"
     ]
    },
    {
     "name": "stdout",
     "output_type": "stream",
     "text": [
      "[CV]  n_estimators=1200, min_child_weight=9, max_depth=3, learning_rate=0.06, base_score=0.85, score=(train=-1.375, test=-5.073), total=   1.3s\n",
      "[CV] n_estimators=1200, min_child_weight=9, max_depth=3, learning_rate=0.06, base_score=0.85 \n",
      "[CV]  n_estimators=1200, min_child_weight=9, max_depth=3, learning_rate=0.06, base_score=0.85, score=(train=-1.391, test=-6.290), total=   2.0s\n",
      "[CV] n_estimators=1400, min_child_weight=10, max_depth=7, learning_rate=0.06, base_score=1 \n",
      "[CV]  n_estimators=1400, min_child_weight=10, max_depth=7, learning_rate=0.06, base_score=1, score=(train=-0.147, test=-6.596), total=   6.3s\n",
      "[CV] n_estimators=1400, min_child_weight=10, max_depth=7, learning_rate=0.06, base_score=1 \n",
      "[CV]  n_estimators=1400, min_child_weight=10, max_depth=7, learning_rate=0.06, base_score=1, score=(train=-0.118, test=-5.875), total=   5.9s\n",
      "[CV] n_estimators=1400, min_child_weight=10, max_depth=7, learning_rate=0.06, base_score=1 \n",
      "[CV]  n_estimators=1400, min_child_weight=10, max_depth=7, learning_rate=0.06, base_score=1, score=(train=-0.150, test=-7.014), total=   5.2s\n",
      "[CV] n_estimators=1100, min_child_weight=9, max_depth=5, learning_rate=0.06, base_score=0.85 \n",
      "[CV]  n_estimators=1100, min_child_weight=9, max_depth=5, learning_rate=0.06, base_score=0.85, score=(train=-0.486, test=-7.272), total=   3.9s\n",
      "[CV] n_estimators=1100, min_child_weight=9, max_depth=5, learning_rate=0.06, base_score=0.85 \n",
      "[CV]  n_estimators=1100, min_child_weight=9, max_depth=5, learning_rate=0.06, base_score=0.85, score=(train=-0.441, test=-5.683), total=   3.9s\n",
      "[CV] n_estimators=1100, min_child_weight=9, max_depth=5, learning_rate=0.06, base_score=0.85 \n",
      "[CV]  n_estimators=1100, min_child_weight=9, max_depth=5, learning_rate=0.06, base_score=0.85, score=(train=-0.500, test=-6.671), total=   2.6s\n",
      "[CV] n_estimators=1100, min_child_weight=10, max_depth=3, learning_rate=0.05, base_score=1.1 \n",
      "[CV]  n_estimators=1100, min_child_weight=10, max_depth=3, learning_rate=0.05, base_score=1.1, score=(train=-1.650, test=-8.308), total=   2.0s\n",
      "[CV] n_estimators=1100, min_child_weight=10, max_depth=3, learning_rate=0.05, base_score=1.1 \n",
      "[CV]  n_estimators=1100, min_child_weight=10, max_depth=3, learning_rate=0.05, base_score=1.1, score=(train=-1.561, test=-5.321), total=   2.1s\n",
      "[CV] n_estimators=1100, min_child_weight=10, max_depth=3, learning_rate=0.05, base_score=1.1 \n",
      "[CV]  n_estimators=1100, min_child_weight=10, max_depth=3, learning_rate=0.05, base_score=1.1, score=(train=-1.643, test=-6.655), total=   2.3s\n",
      "[CV] n_estimators=1200, min_child_weight=8, max_depth=7, learning_rate=0.06, base_score=0.75 \n",
      "[CV]  n_estimators=1200, min_child_weight=8, max_depth=7, learning_rate=0.06, base_score=0.75, score=(train=-0.149, test=-6.353), total=   5.2s\n",
      "[CV] n_estimators=1200, min_child_weight=8, max_depth=7, learning_rate=0.06, base_score=0.75 \n",
      "[CV]  n_estimators=1200, min_child_weight=8, max_depth=7, learning_rate=0.06, base_score=0.75, score=(train=-0.122, test=-5.786), total=   4.0s\n",
      "[CV] n_estimators=1200, min_child_weight=8, max_depth=7, learning_rate=0.06, base_score=0.75 \n",
      "[CV]  n_estimators=1200, min_child_weight=8, max_depth=7, learning_rate=0.06, base_score=0.75, score=(train=-0.147, test=-6.931), total=   4.0s\n",
      "[CV] n_estimators=1100, min_child_weight=9, max_depth=3, learning_rate=0.05, base_score=0.75 \n",
      "[CV]  n_estimators=1100, min_child_weight=9, max_depth=3, learning_rate=0.05, base_score=0.75, score=(train=-1.599, test=-8.056), total=   1.2s\n",
      "[CV] n_estimators=1100, min_child_weight=9, max_depth=3, learning_rate=0.05, base_score=0.75 \n",
      "[CV]  n_estimators=1100, min_child_weight=9, max_depth=3, learning_rate=0.05, base_score=0.75, score=(train=-1.581, test=-5.276), total=   1.9s\n",
      "[CV] n_estimators=1100, min_child_weight=9, max_depth=3, learning_rate=0.05, base_score=0.75 \n",
      "[CV]  n_estimators=1100, min_child_weight=9, max_depth=3, learning_rate=0.05, base_score=0.75, score=(train=-1.603, test=-6.875), total=   1.8s\n",
      "[CV] n_estimators=1400, min_child_weight=8, max_depth=3, learning_rate=0.08, base_score=0.75 \n",
      "[CV]  n_estimators=1400, min_child_weight=8, max_depth=3, learning_rate=0.08, base_score=0.75, score=(train=-1.060, test=-7.623), total=   1.8s\n",
      "[CV] n_estimators=1400, min_child_weight=8, max_depth=3, learning_rate=0.08, base_score=0.75 \n",
      "[CV]  n_estimators=1400, min_child_weight=8, max_depth=3, learning_rate=0.08, base_score=0.75, score=(train=-1.047, test=-5.291), total=   2.8s\n",
      "[CV] n_estimators=1400, min_child_weight=8, max_depth=3, learning_rate=0.08, base_score=0.75 \n",
      "[CV]  n_estimators=1400, min_child_weight=8, max_depth=3, learning_rate=0.08, base_score=0.75, score=(train=-1.052, test=-6.180), total=   1.9s\n",
      "[CV] n_estimators=1200, min_child_weight=8, max_depth=5, learning_rate=0.06, base_score=0.75 \n",
      "[CV]  n_estimators=1200, min_child_weight=8, max_depth=5, learning_rate=0.06, base_score=0.75, score=(train=-0.423, test=-6.808), total=   3.3s\n",
      "[CV] n_estimators=1200, min_child_weight=8, max_depth=5, learning_rate=0.06, base_score=0.75 \n",
      "[CV]  n_estimators=1200, min_child_weight=8, max_depth=5, learning_rate=0.06, base_score=0.75, score=(train=-0.390, test=-5.776), total=   3.7s\n",
      "[CV] n_estimators=1200, min_child_weight=8, max_depth=5, learning_rate=0.06, base_score=0.75 \n",
      "[CV]  n_estimators=1200, min_child_weight=8, max_depth=5, learning_rate=0.06, base_score=0.75, score=(train=-0.429, test=-6.637), total=   3.9s\n",
      "[CV] n_estimators=1400, min_child_weight=9, max_depth=3, learning_rate=0.08, base_score=1.1 \n",
      "[CV]  n_estimators=1400, min_child_weight=9, max_depth=3, learning_rate=0.08, base_score=1.1, score=(train=-1.094, test=-6.943), total=   2.5s\n",
      "[CV] n_estimators=1400, min_child_weight=9, max_depth=3, learning_rate=0.08, base_score=1.1 \n",
      "[CV]  n_estimators=1400, min_child_weight=9, max_depth=3, learning_rate=0.08, base_score=1.1, score=(train=-1.030, test=-5.290), total=   2.2s\n",
      "[CV] n_estimators=1400, min_child_weight=9, max_depth=3, learning_rate=0.08, base_score=1.1 \n",
      "[CV]  n_estimators=1400, min_child_weight=9, max_depth=3, learning_rate=0.08, base_score=1.1, score=(train=-1.061, test=-6.404), total=   1.8s\n",
      "[CV] n_estimators=1200, min_child_weight=10, max_depth=3, learning_rate=0.08, base_score=0.6 \n",
      "[CV]  n_estimators=1200, min_child_weight=10, max_depth=3, learning_rate=0.08, base_score=0.6, score=(train=-1.222, test=-7.229), total=   2.4s\n",
      "[CV] n_estimators=1200, min_child_weight=10, max_depth=3, learning_rate=0.08, base_score=0.6 \n",
      "[CV]  n_estimators=1200, min_child_weight=10, max_depth=3, learning_rate=0.08, base_score=0.6, score=(train=-1.180, test=-5.177), total=   2.0s\n",
      "[CV] n_estimators=1200, min_child_weight=10, max_depth=3, learning_rate=0.08, base_score=0.6 \n",
      "[CV]  n_estimators=1200, min_child_weight=10, max_depth=3, learning_rate=0.08, base_score=0.6, score=(train=-1.198, test=-6.316), total=   1.6s\n",
      "[CV] n_estimators=1200, min_child_weight=9, max_depth=3, learning_rate=0.06, base_score=0.6 \n",
      "[CV]  n_estimators=1200, min_child_weight=9, max_depth=3, learning_rate=0.06, base_score=0.6, score=(train=-1.377, test=-8.234), total=   2.3s\n",
      "[CV] n_estimators=1200, min_child_weight=9, max_depth=3, learning_rate=0.06, base_score=0.6 \n",
      "[CV]  n_estimators=1200, min_child_weight=9, max_depth=3, learning_rate=0.06, base_score=0.6, score=(train=-1.356, test=-5.063), total=   2.4s\n",
      "[CV] n_estimators=1200, min_child_weight=9, max_depth=3, learning_rate=0.06, base_score=0.6 \n",
      "[CV]  n_estimators=1200, min_child_weight=9, max_depth=3, learning_rate=0.06, base_score=0.6, score=(train=-1.390, test=-6.299), total=   2.3s\n",
      "[CV] n_estimators=1200, min_child_weight=10, max_depth=5, learning_rate=0.08, base_score=0.6 \n",
      "[CV]  n_estimators=1200, min_child_weight=10, max_depth=5, learning_rate=0.08, base_score=0.6, score=(train=-0.347, test=-7.060), total=   3.8s\n",
      "[CV] n_estimators=1200, min_child_weight=10, max_depth=5, learning_rate=0.08, base_score=0.6 \n",
      "[CV]  n_estimators=1200, min_child_weight=10, max_depth=5, learning_rate=0.08, base_score=0.6, score=(train=-0.314, test=-5.530), total=   2.9s\n",
      "[CV] n_estimators=1200, min_child_weight=10, max_depth=5, learning_rate=0.08, base_score=0.6 \n",
      "[CV]  n_estimators=1200, min_child_weight=10, max_depth=5, learning_rate=0.08, base_score=0.6, score=(train=-0.360, test=-6.603), total=   3.4s\n",
      "[CV] n_estimators=1400, min_child_weight=9, max_depth=7, learning_rate=0.08, base_score=0.6 \n",
      "[CV]  n_estimators=1400, min_child_weight=9, max_depth=7, learning_rate=0.08, base_score=0.6, score=(train=-0.081, test=-6.249), total=   5.3s\n",
      "[CV] n_estimators=1400, min_child_weight=9, max_depth=7, learning_rate=0.08, base_score=0.6 \n",
      "[CV]  n_estimators=1400, min_child_weight=9, max_depth=7, learning_rate=0.08, base_score=0.6, score=(train=-0.063, test=-5.822), total=   6.3s\n",
      "[CV] n_estimators=1400, min_child_weight=9, max_depth=7, learning_rate=0.08, base_score=0.6 \n",
      "[CV]  n_estimators=1400, min_child_weight=9, max_depth=7, learning_rate=0.08, base_score=0.6, score=(train=-0.087, test=-6.905), total=   4.8s\n",
      "[CV] n_estimators=1400, min_child_weight=9, max_depth=5, learning_rate=0.08, base_score=1 \n",
      "[CV]  n_estimators=1400, min_child_weight=9, max_depth=5, learning_rate=0.08, base_score=1, score=(train=-0.269, test=-7.820), total=   4.3s\n",
      "[CV] n_estimators=1400, min_child_weight=9, max_depth=5, learning_rate=0.08, base_score=1 \n",
      "[CV]  n_estimators=1400, min_child_weight=9, max_depth=5, learning_rate=0.08, base_score=1, score=(train=-0.245, test=-5.764), total=   4.4s\n",
      "[CV] n_estimators=1400, min_child_weight=9, max_depth=5, learning_rate=0.08, base_score=1 \n",
      "[CV]  n_estimators=1400, min_child_weight=9, max_depth=5, learning_rate=0.08, base_score=1, score=(train=-0.273, test=-6.596), total=   4.4s\n",
      "[CV] n_estimators=1400, min_child_weight=8, max_depth=7, learning_rate=0.06, base_score=1.1 \n",
      "[CV]  n_estimators=1400, min_child_weight=8, max_depth=7, learning_rate=0.06, base_score=1.1, score=(train=-0.119, test=-6.495), total=   4.8s\n",
      "[CV] n_estimators=1400, min_child_weight=8, max_depth=7, learning_rate=0.06, base_score=1.1 \n",
      "[CV]  n_estimators=1400, min_child_weight=8, max_depth=7, learning_rate=0.06, base_score=1.1, score=(train=-0.095, test=-5.903), total=   4.8s\n",
      "[CV] n_estimators=1400, min_child_weight=8, max_depth=7, learning_rate=0.06, base_score=1.1 \n",
      "[CV]  n_estimators=1400, min_child_weight=8, max_depth=7, learning_rate=0.06, base_score=1.1, score=(train=-0.121, test=-6.961), total=   6.2s\n",
      "[CV] n_estimators=1100, min_child_weight=8, max_depth=5, learning_rate=0.06, base_score=1 \n",
      "[CV]  n_estimators=1100, min_child_weight=8, max_depth=5, learning_rate=0.06, base_score=1, score=(train=-0.461, test=-6.848), total=   3.5s\n",
      "[CV] n_estimators=1100, min_child_weight=8, max_depth=5, learning_rate=0.06, base_score=1 \n",
      "[CV]  n_estimators=1100, min_child_weight=8, max_depth=5, learning_rate=0.06, base_score=1, score=(train=-0.419, test=-5.705), total=   2.0s\n",
      "[CV] n_estimators=1100, min_child_weight=8, max_depth=5, learning_rate=0.06, base_score=1 \n",
      "[CV]  n_estimators=1100, min_child_weight=8, max_depth=5, learning_rate=0.06, base_score=1, score=(train=-0.471, test=-6.878), total=   3.5s\n",
      "[CV] n_estimators=1100, min_child_weight=10, max_depth=5, learning_rate=0.08, base_score=0.85 \n",
      "[CV]  n_estimators=1100, min_child_weight=10, max_depth=5, learning_rate=0.08, base_score=0.85, score=(train=-0.386, test=-7.251), total=   3.5s\n",
      "[CV] n_estimators=1100, min_child_weight=10, max_depth=5, learning_rate=0.08, base_score=0.85 \n",
      "[CV]  n_estimators=1100, min_child_weight=10, max_depth=5, learning_rate=0.08, base_score=0.85, score=(train=-0.352, test=-5.576), total=   2.3s\n",
      "[CV] n_estimators=1100, min_child_weight=10, max_depth=5, learning_rate=0.08, base_score=0.85 \n",
      "[CV]  n_estimators=1100, min_child_weight=10, max_depth=5, learning_rate=0.08, base_score=0.85, score=(train=-0.399, test=-6.741), total=   3.4s\n",
      "[CV] n_estimators=1400, min_child_weight=9, max_depth=3, learning_rate=0.06, base_score=0.75 \n",
      "[CV]  n_estimators=1400, min_child_weight=9, max_depth=3, learning_rate=0.06, base_score=0.75, score=(train=-1.250, test=-8.274), total=   2.8s\n",
      "[CV] n_estimators=1400, min_child_weight=9, max_depth=3, learning_rate=0.06, base_score=0.75 \n",
      "[CV]  n_estimators=1400, min_child_weight=9, max_depth=3, learning_rate=0.06, base_score=0.75, score=(train=-1.241, test=-5.069), total=   2.7s\n",
      "[CV] n_estimators=1400, min_child_weight=9, max_depth=3, learning_rate=0.06, base_score=0.75 \n",
      "[CV]  n_estimators=1400, min_child_weight=9, max_depth=3, learning_rate=0.06, base_score=0.75, score=(train=-1.276, test=-6.300), total=   3.1s\n",
      "[CV] n_estimators=1400, min_child_weight=8, max_depth=5, learning_rate=0.08, base_score=1.1 \n",
      "[CV]  n_estimators=1400, min_child_weight=8, max_depth=5, learning_rate=0.08, base_score=1.1, score=(train=-0.249, test=-7.985), total=   3.3s\n",
      "[CV] n_estimators=1400, min_child_weight=8, max_depth=5, learning_rate=0.08, base_score=1.1 \n",
      "[CV]  n_estimators=1400, min_child_weight=8, max_depth=5, learning_rate=0.08, base_score=1.1, score=(train=-0.220, test=-5.614), total=   4.4s\n",
      "[CV] n_estimators=1400, min_child_weight=8, max_depth=5, learning_rate=0.08, base_score=1.1 \n",
      "[CV]  n_estimators=1400, min_child_weight=8, max_depth=5, learning_rate=0.08, base_score=1.1, score=(train=-0.276, test=-6.567), total=   3.3s\n",
      "[CV] n_estimators=1200, min_child_weight=10, max_depth=5, learning_rate=0.08, base_score=0.75 \n",
      "[CV]  n_estimators=1200, min_child_weight=10, max_depth=5, learning_rate=0.08, base_score=0.75, score=(train=-0.334, test=-7.891), total=   3.8s\n",
      "[CV] n_estimators=1200, min_child_weight=10, max_depth=5, learning_rate=0.08, base_score=0.75 \n",
      "[CV]  n_estimators=1200, min_child_weight=10, max_depth=5, learning_rate=0.08, base_score=0.75, score=(train=-0.302, test=-5.559), total=   3.8s\n",
      "[CV] n_estimators=1200, min_child_weight=10, max_depth=5, learning_rate=0.08, base_score=0.75 \n",
      "[CV]  n_estimators=1200, min_child_weight=10, max_depth=5, learning_rate=0.08, base_score=0.75, score=(train=-0.360, test=-6.758), total=   4.4s\n",
      "[CV] n_estimators=1200, min_child_weight=8, max_depth=7, learning_rate=0.05, base_score=0.75 \n",
      "[CV]  n_estimators=1200, min_child_weight=8, max_depth=7, learning_rate=0.05, base_score=0.75, score=(train=-0.213, test=-6.804), total=   4.4s\n",
      "[CV] n_estimators=1200, min_child_weight=8, max_depth=7, learning_rate=0.05, base_score=0.75 \n",
      "[CV]  n_estimators=1200, min_child_weight=8, max_depth=7, learning_rate=0.05, base_score=0.75, score=(train=-0.156, test=-5.680), total=   5.7s\n",
      "[CV] n_estimators=1200, min_child_weight=8, max_depth=7, learning_rate=0.05, base_score=0.75 \n",
      "[CV]  n_estimators=1200, min_child_weight=8, max_depth=7, learning_rate=0.05, base_score=0.75, score=(train=-0.208, test=-6.751), total=   5.2s\n",
      "[CV] n_estimators=1200, min_child_weight=10, max_depth=7, learning_rate=0.06, base_score=1.1 \n",
      "[CV]  n_estimators=1200, min_child_weight=10, max_depth=7, learning_rate=0.06, base_score=1.1, score=(train=-0.197, test=-6.748), total=   4.7s\n",
      "[CV] n_estimators=1200, min_child_weight=10, max_depth=7, learning_rate=0.06, base_score=1.1 \n",
      "[CV]  n_estimators=1200, min_child_weight=10, max_depth=7, learning_rate=0.06, base_score=1.1, score=(train=-0.151, test=-5.848), total=   5.6s\n",
      "[CV] n_estimators=1200, min_child_weight=10, max_depth=7, learning_rate=0.06, base_score=1.1 \n",
      "[CV]  n_estimators=1200, min_child_weight=10, max_depth=7, learning_rate=0.06, base_score=1.1, score=(train=-0.222, test=-7.069), total=   5.3s\n",
      "[CV] n_estimators=1400, min_child_weight=10, max_depth=7, learning_rate=0.06, base_score=1.1 \n",
      "[CV]  n_estimators=1400, min_child_weight=10, max_depth=7, learning_rate=0.06, base_score=1.1, score=(train=-0.160, test=-6.734), total=   4.9s\n",
      "[CV] n_estimators=1400, min_child_weight=10, max_depth=7, learning_rate=0.06, base_score=1.1 \n",
      "[CV]  n_estimators=1400, min_child_weight=10, max_depth=7, learning_rate=0.06, base_score=1.1, score=(train=-0.119, test=-5.848), total=   6.2s\n",
      "[CV] n_estimators=1400, min_child_weight=10, max_depth=7, learning_rate=0.06, base_score=1.1 \n",
      "[CV]  n_estimators=1400, min_child_weight=10, max_depth=7, learning_rate=0.06, base_score=1.1, score=(train=-0.174, test=-7.065), total=   6.0s\n",
      "[CV] n_estimators=1400, min_child_weight=10, max_depth=3, learning_rate=0.06, base_score=1.1 \n",
      "[CV]  n_estimators=1400, min_child_weight=10, max_depth=3, learning_rate=0.06, base_score=1.1, score=(train=-1.236, test=-8.235), total=   1.8s\n",
      "[CV] n_estimators=1400, min_child_weight=10, max_depth=3, learning_rate=0.06, base_score=1.1 \n",
      "[CV]  n_estimators=1400, min_child_weight=10, max_depth=3, learning_rate=0.06, base_score=1.1, score=(train=-1.258, test=-5.115), total=   2.9s\n",
      "[CV] n_estimators=1400, min_child_weight=10, max_depth=3, learning_rate=0.06, base_score=1.1 \n",
      "[CV]  n_estimators=1400, min_child_weight=10, max_depth=3, learning_rate=0.06, base_score=1.1, score=(train=-1.251, test=-6.266), total=   2.7s\n",
      "[CV] n_estimators=1200, min_child_weight=8, max_depth=3, learning_rate=0.05, base_score=0.6 \n",
      "[CV]  n_estimators=1200, min_child_weight=8, max_depth=3, learning_rate=0.05, base_score=0.6, score=(train=-1.514, test=-7.774), total=   2.4s\n",
      "[CV] n_estimators=1200, min_child_weight=8, max_depth=3, learning_rate=0.05, base_score=0.6 \n",
      "[CV]  n_estimators=1200, min_child_weight=8, max_depth=3, learning_rate=0.05, base_score=0.6, score=(train=-1.494, test=-5.349), total=   2.4s\n",
      "[CV] n_estimators=1200, min_child_weight=8, max_depth=3, learning_rate=0.05, base_score=0.6 \n",
      "[CV]  n_estimators=1200, min_child_weight=8, max_depth=3, learning_rate=0.05, base_score=0.6, score=(train=-1.523, test=-6.630), total=   2.4s\n",
      "[CV] n_estimators=1200, min_child_weight=8, max_depth=7, learning_rate=0.05, base_score=0.85 \n",
      "[CV]  n_estimators=1200, min_child_weight=8, max_depth=7, learning_rate=0.05, base_score=0.85, score=(train=-0.210, test=-6.622), total=   4.3s\n",
      "[CV] n_estimators=1200, min_child_weight=8, max_depth=7, learning_rate=0.05, base_score=0.85 \n",
      "[CV]  n_estimators=1200, min_child_weight=8, max_depth=7, learning_rate=0.05, base_score=0.85, score=(train=-0.162, test=-5.773), total=   5.2s\n",
      "[CV] n_estimators=1200, min_child_weight=8, max_depth=7, learning_rate=0.05, base_score=0.85 \n",
      "[CV]  n_estimators=1200, min_child_weight=8, max_depth=7, learning_rate=0.05, base_score=0.85, score=(train=-0.202, test=-6.740), total=   5.3s\n",
      "[CV] n_estimators=1400, min_child_weight=10, max_depth=3, learning_rate=0.05, base_score=0.75 \n",
      "[CV]  n_estimators=1400, min_child_weight=10, max_depth=3, learning_rate=0.05, base_score=0.75, score=(train=-1.395, test=-7.652), total=   1.6s\n",
      "[CV] n_estimators=1400, min_child_weight=10, max_depth=3, learning_rate=0.05, base_score=0.75 \n",
      "[CV]  n_estimators=1400, min_child_weight=10, max_depth=3, learning_rate=0.05, base_score=0.75, score=(train=-1.355, test=-5.155), total=   2.6s\n",
      "[CV] n_estimators=1400, min_child_weight=10, max_depth=3, learning_rate=0.05, base_score=0.75 \n",
      "[CV]  n_estimators=1400, min_child_weight=10, max_depth=3, learning_rate=0.05, base_score=0.75, score=(train=-1.423, test=-6.477), total=   2.7s\n",
      "[CV] n_estimators=1400, min_child_weight=10, max_depth=5, learning_rate=0.08, base_score=1 \n",
      "[CV]  n_estimators=1400, min_child_weight=10, max_depth=5, learning_rate=0.08, base_score=1, score=(train=-0.286, test=-7.745), total=   4.4s\n",
      "[CV] n_estimators=1400, min_child_weight=10, max_depth=5, learning_rate=0.08, base_score=1 \n",
      "[CV]  n_estimators=1400, min_child_weight=10, max_depth=5, learning_rate=0.08, base_score=1, score=(train=-0.242, test=-5.560), total=   4.4s\n",
      "[CV] n_estimators=1400, min_child_weight=10, max_depth=5, learning_rate=0.08, base_score=1 \n",
      "[CV]  n_estimators=1400, min_child_weight=10, max_depth=5, learning_rate=0.08, base_score=1, score=(train=-0.303, test=-6.608), total=   4.3s\n",
      "[CV] n_estimators=1100, min_child_weight=9, max_depth=5, learning_rate=0.08, base_score=0.85 \n",
      "[CV]  n_estimators=1100, min_child_weight=9, max_depth=5, learning_rate=0.08, base_score=0.85, score=(train=-0.355, test=-7.521), total=   2.5s\n",
      "[CV] n_estimators=1100, min_child_weight=9, max_depth=5, learning_rate=0.08, base_score=0.85 \n",
      "[CV]  n_estimators=1100, min_child_weight=9, max_depth=5, learning_rate=0.08, base_score=0.85, score=(train=-0.337, test=-5.882), total=   3.3s\n",
      "[CV] n_estimators=1100, min_child_weight=9, max_depth=5, learning_rate=0.08, base_score=0.85 \n",
      "[CV]  n_estimators=1100, min_child_weight=9, max_depth=5, learning_rate=0.08, base_score=0.85, score=(train=-0.384, test=-6.530), total=   3.9s\n",
      "[CV] n_estimators=1100, min_child_weight=9, max_depth=7, learning_rate=0.06, base_score=1.1 \n",
      "[CV]  n_estimators=1100, min_child_weight=9, max_depth=7, learning_rate=0.06, base_score=1.1, score=(train=-0.192, test=-6.471), total=   5.0s\n",
      "[CV] n_estimators=1100, min_child_weight=9, max_depth=7, learning_rate=0.06, base_score=1.1 \n",
      "[CV]  n_estimators=1100, min_child_weight=9, max_depth=7, learning_rate=0.06, base_score=1.1, score=(train=-0.173, test=-5.956), total=   4.7s\n",
      "[CV] n_estimators=1100, min_child_weight=9, max_depth=7, learning_rate=0.06, base_score=1.1 \n",
      "[CV]  n_estimators=1100, min_child_weight=9, max_depth=7, learning_rate=0.06, base_score=1.1, score=(train=-0.217, test=-7.054), total=   3.5s\n",
      "[CV] n_estimators=1400, min_child_weight=10, max_depth=5, learning_rate=0.05, base_score=0.6 \n",
      "[CV]  n_estimators=1400, min_child_weight=10, max_depth=5, learning_rate=0.05, base_score=0.6, score=(train=-0.499, test=-7.023), total=   4.3s\n",
      "[CV] n_estimators=1400, min_child_weight=10, max_depth=5, learning_rate=0.05, base_score=0.6 \n",
      "[CV]  n_estimators=1400, min_child_weight=10, max_depth=5, learning_rate=0.05, base_score=0.6, score=(train=-0.424, test=-5.690), total=   4.4s\n",
      "[CV] n_estimators=1400, min_child_weight=10, max_depth=5, learning_rate=0.05, base_score=0.6 \n",
      "[CV]  n_estimators=1400, min_child_weight=10, max_depth=5, learning_rate=0.05, base_score=0.6, score=(train=-0.493, test=-6.564), total=   4.3s\n",
      "[CV] n_estimators=1400, min_child_weight=9, max_depth=5, learning_rate=0.05, base_score=0.6 \n",
      "[CV]  n_estimators=1400, min_child_weight=9, max_depth=5, learning_rate=0.05, base_score=0.6, score=(train=-0.464, test=-7.029), total=   4.7s\n",
      "[CV] n_estimators=1400, min_child_weight=9, max_depth=5, learning_rate=0.05, base_score=0.6 \n",
      "[CV]  n_estimators=1400, min_child_weight=9, max_depth=5, learning_rate=0.05, base_score=0.6, score=(train=-0.419, test=-5.631), total=   3.6s\n",
      "[CV] n_estimators=1400, min_child_weight=9, max_depth=5, learning_rate=0.05, base_score=0.6 \n",
      "[CV]  n_estimators=1400, min_child_weight=9, max_depth=5, learning_rate=0.05, base_score=0.6, score=(train=-0.481, test=-6.663), total=   4.9s\n",
      "[CV] n_estimators=1100, min_child_weight=8, max_depth=3, learning_rate=0.06, base_score=1 \n",
      "[CV]  n_estimators=1100, min_child_weight=8, max_depth=3, learning_rate=0.06, base_score=1, score=(train=-1.421, test=-7.813), total=   2.3s\n",
      "[CV] n_estimators=1100, min_child_weight=8, max_depth=3, learning_rate=0.06, base_score=1 \n",
      "[CV]  n_estimators=1100, min_child_weight=8, max_depth=3, learning_rate=0.06, base_score=1, score=(train=-1.453, test=-5.227), total=   2.3s\n",
      "[CV] n_estimators=1100, min_child_weight=8, max_depth=3, learning_rate=0.06, base_score=1 \n",
      "[CV]  n_estimators=1100, min_child_weight=8, max_depth=3, learning_rate=0.06, base_score=1, score=(train=-1.443, test=-6.358), total=   2.2s\n",
      "[CV] n_estimators=1200, min_child_weight=8, max_depth=5, learning_rate=0.05, base_score=1 \n",
      "[CV]  n_estimators=1200, min_child_weight=8, max_depth=5, learning_rate=0.05, base_score=1, score=(train=-0.521, test=-6.857), total=   5.2s\n",
      "[CV] n_estimators=1200, min_child_weight=8, max_depth=5, learning_rate=0.05, base_score=1 \n",
      "[CV]  n_estimators=1200, min_child_weight=8, max_depth=5, learning_rate=0.05, base_score=1, score=(train=-0.467, test=-5.576), total=   3.9s\n",
      "[CV] n_estimators=1200, min_child_weight=8, max_depth=5, learning_rate=0.05, base_score=1 \n",
      "[CV]  n_estimators=1200, min_child_weight=8, max_depth=5, learning_rate=0.05, base_score=1, score=(train=-0.530, test=-6.492), total=   2.7s\n",
      "[CV] n_estimators=1200, min_child_weight=9, max_depth=3, learning_rate=0.06, base_score=1 \n",
      "[CV]  n_estimators=1200, min_child_weight=9, max_depth=3, learning_rate=0.06, base_score=1, score=(train=-1.365, test=-8.219), total=   2.4s\n",
      "[CV] n_estimators=1200, min_child_weight=9, max_depth=3, learning_rate=0.06, base_score=1 \n",
      "[CV]  n_estimators=1200, min_child_weight=9, max_depth=3, learning_rate=0.06, base_score=1, score=(train=-1.372, test=-5.280), total=   2.4s\n",
      "[CV] n_estimators=1200, min_child_weight=9, max_depth=3, learning_rate=0.06, base_score=1 \n",
      "[CV]  n_estimators=1200, min_child_weight=9, max_depth=3, learning_rate=0.06, base_score=1, score=(train=-1.391, test=-6.290), total=   2.4s\n",
      "[CV] n_estimators=1200, min_child_weight=8, max_depth=5, learning_rate=0.08, base_score=0.75 \n",
      "[CV]  n_estimators=1200, min_child_weight=8, max_depth=5, learning_rate=0.08, base_score=0.75, score=(train=-0.306, test=-7.478), total=   3.8s\n",
      "[CV] n_estimators=1200, min_child_weight=8, max_depth=5, learning_rate=0.08, base_score=0.75 \n",
      "[CV]  n_estimators=1200, min_child_weight=8, max_depth=5, learning_rate=0.08, base_score=0.75, score=(train=-0.268, test=-5.548), total=   3.9s\n",
      "[CV] n_estimators=1200, min_child_weight=8, max_depth=5, learning_rate=0.08, base_score=0.75 \n",
      "[CV]  n_estimators=1200, min_child_weight=8, max_depth=5, learning_rate=0.08, base_score=0.75, score=(train=-0.323, test=-6.554), total=   4.2s\n",
      "[CV] n_estimators=1400, min_child_weight=8, max_depth=3, learning_rate=0.06, base_score=0.75 \n",
      "[CV]  n_estimators=1400, min_child_weight=8, max_depth=3, learning_rate=0.06, base_score=0.75, score=(train=-1.236, test=-7.799), total=   2.8s\n",
      "[CV] n_estimators=1400, min_child_weight=8, max_depth=3, learning_rate=0.06, base_score=0.75 \n",
      "[CV]  n_estimators=1400, min_child_weight=8, max_depth=3, learning_rate=0.06, base_score=0.75, score=(train=-1.251, test=-5.080), total=   1.9s\n",
      "[CV] n_estimators=1400, min_child_weight=8, max_depth=3, learning_rate=0.06, base_score=0.75 \n",
      "[CV]  n_estimators=1400, min_child_weight=8, max_depth=3, learning_rate=0.06, base_score=0.75, score=(train=-1.246, test=-6.257), total=   3.1s\n",
      "[CV] n_estimators=1200, min_child_weight=9, max_depth=5, learning_rate=0.08, base_score=0.85 \n",
      "[CV]  n_estimators=1200, min_child_weight=9, max_depth=5, learning_rate=0.08, base_score=0.85, score=(train=-0.323, test=-7.517), total=   4.0s\n",
      "[CV] n_estimators=1200, min_child_weight=9, max_depth=5, learning_rate=0.08, base_score=0.85 \n",
      "[CV]  n_estimators=1200, min_child_weight=9, max_depth=5, learning_rate=0.08, base_score=0.85, score=(train=-0.304, test=-5.869), total=   4.2s\n",
      "[CV] n_estimators=1200, min_child_weight=9, max_depth=5, learning_rate=0.08, base_score=0.85 \n",
      "[CV]  n_estimators=1200, min_child_weight=9, max_depth=5, learning_rate=0.08, base_score=0.85, score=(train=-0.349, test=-6.527), total=   4.2s\n",
      "[CV] n_estimators=1400, min_child_weight=8, max_depth=7, learning_rate=0.06, base_score=1 \n",
      "[CV]  n_estimators=1400, min_child_weight=8, max_depth=7, learning_rate=0.06, base_score=1, score=(train=-0.124, test=-6.496), total=   6.2s\n",
      "[CV] n_estimators=1400, min_child_weight=8, max_depth=7, learning_rate=0.06, base_score=1 \n",
      "[CV]  n_estimators=1400, min_child_weight=8, max_depth=7, learning_rate=0.06, base_score=1, score=(train=-0.095, test=-5.877), total=   6.4s\n",
      "[CV] n_estimators=1400, min_child_weight=8, max_depth=7, learning_rate=0.06, base_score=1 \n",
      "[CV]  n_estimators=1400, min_child_weight=8, max_depth=7, learning_rate=0.06, base_score=1, score=(train=-0.128, test=-6.852), total=   4.8s\n",
      "[CV] n_estimators=1200, min_child_weight=10, max_depth=3, learning_rate=0.05, base_score=0.6 \n",
      "[CV]  n_estimators=1200, min_child_weight=10, max_depth=3, learning_rate=0.05, base_score=0.6, score=(train=-1.502, test=-7.653), total=   2.4s\n",
      "[CV] n_estimators=1200, min_child_weight=10, max_depth=3, learning_rate=0.05, base_score=0.6 \n",
      "[CV]  n_estimators=1200, min_child_weight=10, max_depth=3, learning_rate=0.05, base_score=0.6, score=(train=-1.482, test=-5.243), total=   2.5s\n",
      "[CV] n_estimators=1200, min_child_weight=10, max_depth=3, learning_rate=0.05, base_score=0.6 \n",
      "[CV]  n_estimators=1200, min_child_weight=10, max_depth=3, learning_rate=0.05, base_score=0.6, score=(train=-1.564, test=-6.555), total=   2.6s\n",
      "[CV] n_estimators=1200, min_child_weight=10, max_depth=3, learning_rate=0.08, base_score=1.1 \n",
      "[CV]  n_estimators=1200, min_child_weight=10, max_depth=3, learning_rate=0.08, base_score=1.1, score=(train=-1.209, test=-7.072), total=   2.5s\n",
      "[CV] n_estimators=1200, min_child_weight=10, max_depth=3, learning_rate=0.08, base_score=1.1 \n",
      "[CV]  n_estimators=1200, min_child_weight=10, max_depth=3, learning_rate=0.08, base_score=1.1, score=(train=-1.157, test=-5.319), total=   2.6s\n",
      "[CV] n_estimators=1200, min_child_weight=10, max_depth=3, learning_rate=0.08, base_score=1.1 \n",
      "[CV]  n_estimators=1200, min_child_weight=10, max_depth=3, learning_rate=0.08, base_score=1.1, score=(train=-1.202, test=-6.318), total=   2.6s\n",
      "[CV] n_estimators=1100, min_child_weight=8, max_depth=7, learning_rate=0.05, base_score=0.6 \n",
      "[CV]  n_estimators=1100, min_child_weight=8, max_depth=7, learning_rate=0.05, base_score=0.6, score=(train=-0.234, test=-6.499), total=   4.9s\n",
      "[CV] n_estimators=1100, min_child_weight=8, max_depth=7, learning_rate=0.05, base_score=0.6 \n",
      "[CV]  n_estimators=1100, min_child_weight=8, max_depth=7, learning_rate=0.05, base_score=0.6, score=(train=-0.190, test=-5.826), total=   4.7s\n",
      "[CV] n_estimators=1100, min_child_weight=8, max_depth=7, learning_rate=0.05, base_score=0.6 \n",
      "[CV]  n_estimators=1100, min_child_weight=8, max_depth=7, learning_rate=0.05, base_score=0.6, score=(train=-0.239, test=-6.763), total=   3.8s\n",
      "[CV] n_estimators=1100, min_child_weight=9, max_depth=3, learning_rate=0.06, base_score=1.1 \n",
      "[CV]  n_estimators=1100, min_child_weight=9, max_depth=3, learning_rate=0.06, base_score=1.1, score=(train=-1.441, test=-8.196), total=   2.2s\n",
      "[CV] n_estimators=1100, min_child_weight=9, max_depth=3, learning_rate=0.06, base_score=1.1 \n",
      "[CV]  n_estimators=1100, min_child_weight=9, max_depth=3, learning_rate=0.06, base_score=1.1, score=(train=-1.447, test=-5.111), total=   2.1s\n",
      "[CV] n_estimators=1100, min_child_weight=9, max_depth=3, learning_rate=0.06, base_score=1.1 \n",
      "[CV]  n_estimators=1100, min_child_weight=9, max_depth=3, learning_rate=0.06, base_score=1.1, score=(train=-1.466, test=-6.332), total=   2.2s\n",
      "[CV] n_estimators=1400, min_child_weight=10, max_depth=7, learning_rate=0.08, base_score=1 \n",
      "[CV]  n_estimators=1400, min_child_weight=10, max_depth=7, learning_rate=0.08, base_score=1, score=(train=-0.098, test=-6.651), total=   6.5s\n",
      "[CV] n_estimators=1400, min_child_weight=10, max_depth=7, learning_rate=0.08, base_score=1 \n",
      "[CV]  n_estimators=1400, min_child_weight=10, max_depth=7, learning_rate=0.08, base_score=1, score=(train=-0.075, test=-5.768), total=   6.7s\n",
      "[CV] n_estimators=1400, min_child_weight=10, max_depth=7, learning_rate=0.08, base_score=1 \n",
      "[CV]  n_estimators=1400, min_child_weight=10, max_depth=7, learning_rate=0.08, base_score=1, score=(train=-0.093, test=-7.038), total=   5.4s\n",
      "[CV] n_estimators=1200, min_child_weight=8, max_depth=7, learning_rate=0.08, base_score=1 \n",
      "[CV]  n_estimators=1200, min_child_weight=8, max_depth=7, learning_rate=0.08, base_score=1, score=(train=-0.096, test=-6.461), total=   5.8s\n",
      "[CV] n_estimators=1200, min_child_weight=8, max_depth=7, learning_rate=0.08, base_score=1 \n",
      "[CV]  n_estimators=1200, min_child_weight=8, max_depth=7, learning_rate=0.08, base_score=1, score=(train=-0.072, test=-5.951), total=   5.4s\n",
      "[CV] n_estimators=1200, min_child_weight=8, max_depth=7, learning_rate=0.08, base_score=1 \n",
      "[CV]  n_estimators=1200, min_child_weight=8, max_depth=7, learning_rate=0.08, base_score=1, score=(train=-0.090, test=-6.816), total=   5.2s\n",
      "[CV] n_estimators=1200, min_child_weight=9, max_depth=7, learning_rate=0.06, base_score=0.75 \n",
      "[CV]  n_estimators=1200, min_child_weight=9, max_depth=7, learning_rate=0.06, base_score=0.75, score=(train=-0.168, test=-6.242), total=   5.3s\n",
      "[CV] n_estimators=1200, min_child_weight=9, max_depth=7, learning_rate=0.06, base_score=0.75 \n",
      "[CV]  n_estimators=1200, min_child_weight=9, max_depth=7, learning_rate=0.06, base_score=0.75, score=(train=-0.140, test=-5.748), total=   4.0s\n",
      "[CV] n_estimators=1200, min_child_weight=9, max_depth=7, learning_rate=0.06, base_score=0.75 \n",
      "[CV]  n_estimators=1200, min_child_weight=9, max_depth=7, learning_rate=0.06, base_score=0.75, score=(train=-0.198, test=-6.979), total=   5.3s\n",
      "[CV] n_estimators=1400, min_child_weight=8, max_depth=7, learning_rate=0.06, base_score=0.75 \n",
      "[CV]  n_estimators=1400, min_child_weight=8, max_depth=7, learning_rate=0.06, base_score=0.75, score=(train=-0.116, test=-6.350), total=   6.3s\n",
      "[CV] n_estimators=1400, min_child_weight=8, max_depth=7, learning_rate=0.06, base_score=0.75 \n",
      "[CV]  n_estimators=1400, min_child_weight=8, max_depth=7, learning_rate=0.06, base_score=0.75, score=(train=-0.094, test=-5.788), total=   6.3s\n",
      "[CV] n_estimators=1400, min_child_weight=8, max_depth=7, learning_rate=0.06, base_score=0.75 \n",
      "[CV]  n_estimators=1400, min_child_weight=8, max_depth=7, learning_rate=0.06, base_score=0.75, score=(train=-0.115, test=-6.932), total=   4.9s\n",
      "[CV] n_estimators=1100, min_child_weight=9, max_depth=7, learning_rate=0.06, base_score=1 \n",
      "[CV]  n_estimators=1100, min_child_weight=9, max_depth=7, learning_rate=0.06, base_score=1, score=(train=-0.190, test=-6.842), total=   4.7s\n",
      "[CV] n_estimators=1100, min_child_weight=9, max_depth=7, learning_rate=0.06, base_score=1 \n",
      "[CV]  n_estimators=1100, min_child_weight=9, max_depth=7, learning_rate=0.06, base_score=1, score=(train=-0.161, test=-5.685), total=   4.7s\n",
      "[CV] n_estimators=1100, min_child_weight=9, max_depth=7, learning_rate=0.06, base_score=1 \n",
      "[CV]  n_estimators=1100, min_child_weight=9, max_depth=7, learning_rate=0.06, base_score=1, score=(train=-0.218, test=-7.001), total=   4.8s\n",
      "[CV] n_estimators=1100, min_child_weight=8, max_depth=7, learning_rate=0.08, base_score=0.6 \n",
      "[CV]  n_estimators=1100, min_child_weight=8, max_depth=7, learning_rate=0.08, base_score=0.6, score=(train=-0.109, test=-6.377), total=   4.8s\n",
      "[CV] n_estimators=1100, min_child_weight=8, max_depth=7, learning_rate=0.08, base_score=0.6 \n",
      "[CV]  n_estimators=1100, min_child_weight=8, max_depth=7, learning_rate=0.08, base_score=0.6, score=(train=-0.085, test=-5.928), total=   3.6s\n",
      "[CV] n_estimators=1100, min_child_weight=8, max_depth=7, learning_rate=0.08, base_score=0.6 \n",
      "[CV]  n_estimators=1100, min_child_weight=8, max_depth=7, learning_rate=0.08, base_score=0.6, score=(train=-0.115, test=-6.855), total=   4.8s\n"
     ]
    },
    {
     "name": "stderr",
     "output_type": "stream",
     "text": [
      "[Parallel(n_jobs=1)]: Done 150 out of 150 | elapsed:  9.5min finished\n"
     ]
    },
    {
     "data": {
      "text/plain": [
       "RandomizedSearchCV(cv=3,\n",
       "                   estimator=XGBRegressor(base_score=None, booster=None,\n",
       "                                          colsample_bylevel=None,\n",
       "                                          colsample_bynode=None,\n",
       "                                          colsample_bytree=None, gamma=None,\n",
       "                                          gpu_id=None, importance_type='gain',\n",
       "                                          interaction_constraints=None,\n",
       "                                          learning_rate=None,\n",
       "                                          max_delta_step=None, max_depth=None,\n",
       "                                          min_child_weight=None, missing=nan,\n",
       "                                          monotone_constraints=None,\n",
       "                                          n_estimators=100, n...\n",
       "                                          scale_pos_weight=None, subsample=None,\n",
       "                                          tree_method=None,\n",
       "                                          validate_parameters=None,\n",
       "                                          verbosity=None),\n",
       "                   n_iter=50,\n",
       "                   param_distributions={'base_score': [1, 1.1, 0.85, 0.75, 0.6],\n",
       "                                        'learning_rate': [0.08, 0.05, 0.06],\n",
       "                                        'max_depth': [7, 5, 3],\n",
       "                                        'min_child_weight': [8, 9, 10],\n",
       "                                        'n_estimators': [1400, 1200, 1100]},\n",
       "                   random_state=0, return_train_score=True,\n",
       "                   scoring='neg_mean_absolute_error', verbose=5)"
      ]
     },
     "execution_count": 16,
     "metadata": {},
     "output_type": "execute_result"
    }
   ],
   "source": [
    "random_cv.fit(X_train,y_train)"
   ]
  },
  {
   "cell_type": "code",
   "execution_count": 20,
   "metadata": {},
   "outputs": [
    {
     "data": {
      "text/plain": [
       "XGBRegressor(base_score=1.1, booster='gbtree', colsample_bylevel=1,\n",
       "             colsample_bynode=1, colsample_bytree=1, gamma=0, gpu_id=-1,\n",
       "             importance_type='gain', interaction_constraints='',\n",
       "             learning_rate=0.08, max_delta_step=0, max_depth=3,\n",
       "             min_child_weight=9, missing=nan, monotone_constraints='()',\n",
       "             n_estimators=1400, n_jobs=0, num_parallel_tree=1, random_state=0,\n",
       "             reg_alpha=0, reg_lambda=1, scale_pos_weight=1, subsample=1,\n",
       "             tree_method='exact', validate_parameters=1, verbosity=None)"
      ]
     },
     "execution_count": 20,
     "metadata": {},
     "output_type": "execute_result"
    }
   ],
   "source": [
    "## XG Boost Best estimater by RandomizedSearchCV\n",
    "random_cv.best_estimator_"
   ]
  },
  {
   "cell_type": "code",
   "execution_count": 21,
   "metadata": {},
   "outputs": [
    {
     "data": {
      "text/plain": [
       "{'n_estimators': 1400,\n",
       " 'min_child_weight': 9,\n",
       " 'max_depth': 3,\n",
       " 'learning_rate': 0.08,\n",
       " 'base_score': 1.1}"
      ]
     },
     "execution_count": 21,
     "metadata": {},
     "output_type": "execute_result"
    }
   ],
   "source": [
    "## XG Boost Best Parameters by RandomizedSearchCV\n",
    "random_cv.best_params_"
   ]
  },
  {
   "cell_type": "code",
   "execution_count": 70,
   "metadata": {},
   "outputs": [],
   "source": [
    "## XG Boost Hyperparameters by RandomizedSearchCV\n",
    "regressor = XGBRegressor(base_score=1.1, booster='gbtree', colsample_bylevel=1,\n",
    "             colsample_bynode=1, colsample_bytree=1, gamma=0, gpu_id=-1,\n",
    "             importance_type='gain', interaction_constraints='',\n",
    "             learning_rate=0.01, max_delta_step=0, max_depth=3,\n",
    "             min_child_weight=9, missing=None, monotone_constraints='()',\n",
    "             n_estimators=800, n_jobs=0, num_parallel_tree=1, random_state=0,\n",
    "             reg_alpha=0, reg_lambda=1, scale_pos_weight=1, subsample=1,\n",
    "             tree_method='exact', validate_parameters=1, verbosity=None)"
   ]
  },
  {
   "cell_type": "code",
   "execution_count": 71,
   "metadata": {},
   "outputs": [
    {
     "data": {
      "text/plain": [
       "XGBRegressor(base_score=1.1, booster='gbtree', colsample_bylevel=1,\n",
       "             colsample_bynode=1, colsample_bytree=1, gamma=0, gpu_id=-1,\n",
       "             importance_type='gain', interaction_constraints='',\n",
       "             learning_rate=0.01, max_delta_step=0, max_depth=3,\n",
       "             min_child_weight=9, missing=None, monotone_constraints='()',\n",
       "             n_estimators=800, n_jobs=0, num_parallel_tree=1, random_state=0,\n",
       "             reg_alpha=0, reg_lambda=1, scale_pos_weight=1, subsample=1,\n",
       "             tree_method='exact', validate_parameters=1, verbosity=None)"
      ]
     },
     "execution_count": 71,
     "metadata": {},
     "output_type": "execute_result"
    }
   ],
   "source": [
    "## Fitting XG Boost Hyperparameters by RandomizedSearchCV\n",
    "regressor.fit(X_train,y_train)"
   ]
  },
  {
   "cell_type": "code",
   "execution_count": 72,
   "metadata": {},
   "outputs": [
    {
     "data": {
      "text/plain": [
       "0.9995050922984215"
      ]
     },
     "execution_count": 72,
     "metadata": {},
     "output_type": "execute_result"
    }
   ],
   "source": [
    "## Train Score XG Boost\n",
    "regressor.score(X_train,y_train)"
   ]
  },
  {
   "cell_type": "code",
   "execution_count": 73,
   "metadata": {},
   "outputs": [
    {
     "data": {
      "text/plain": [
       "0.9989871098646176"
      ]
     },
     "execution_count": 73,
     "metadata": {},
     "output_type": "execute_result"
    }
   ],
   "source": [
    "## Test Score XG Boost\n",
    "regressor.score(X_test,y_test)"
   ]
  },
  {
   "cell_type": "code",
   "execution_count": 74,
   "metadata": {},
   "outputs": [
    {
     "name": "stdout",
     "output_type": "stream",
     "text": [
      "[0.3031984  0.3031984  0.3031984  ... 0.30479562 0.30479562 0.30479562]\n"
     ]
    }
   ],
   "source": [
    "## Predicting Test value XG Boost\n",
    "Y_pred = regressor.predict(X_test)\n",
    "print(Y_pred)\n",
    "a = pd.DataFrame(data=Y_pred)\n",
    "a.to_csv('Result.csv')"
   ]
  },
  {
   "cell_type": "code",
   "execution_count": 75,
   "metadata": {},
   "outputs": [
    {
     "name": "stdout",
     "output_type": "stream",
     "text": [
      "XG boost for Test RMSE 8.12759618523451\n",
      "XG boost for Test MSE 66.05781975023856\n",
      "XG boost for Test MAE 4.255388625408417\n"
     ]
    }
   ],
   "source": [
    "## Test RMSE VALUE XG Boost\n",
    "print('XG boost for Test RMSE',np.sqrt(mean_squared_error(y_test,Y_pred)))\n",
    "print('XG boost for Test MSE',mean_squared_error(y_test,Y_pred))\n",
    "print('XG boost for Test MAE',mean_absolute_error(y_test,Y_pred))"
   ]
  },
  {
   "cell_type": "markdown",
   "metadata": {},
   "source": [
    "# Decision Tree Regressor"
   ]
  },
  {
   "cell_type": "code",
   "execution_count": 35,
   "metadata": {},
   "outputs": [],
   "source": [
    "dtm = DecisionTreeRegressor(criterion='mse', splitter='best', max_depth=14, \n",
    "                           min_samples_split=5, min_samples_leaf=2, min_weight_fraction_leaf=0.0,\n",
    "                           max_features=4, random_state=42, max_leaf_nodes=750,\n",
    "                           min_impurity_decrease=0.0, min_impurity_split=None, \n",
    "                           presort='deprecated', ccp_alpha=0.0)"
   ]
  },
  {
   "cell_type": "code",
   "execution_count": 36,
   "metadata": {},
   "outputs": [
    {
     "data": {
      "text/plain": [
       "DecisionTreeRegressor(max_depth=14, max_features=4, max_leaf_nodes=750,\n",
       "                      min_samples_leaf=2, min_samples_split=5, random_state=42)"
      ]
     },
     "execution_count": 36,
     "metadata": {},
     "output_type": "execute_result"
    }
   ],
   "source": [
    "dtm.fit(X_train,y_train)"
   ]
  },
  {
   "cell_type": "code",
   "execution_count": 37,
   "metadata": {},
   "outputs": [
    {
     "name": "stdout",
     "output_type": "stream",
     "text": [
      "[0.00716538 0.00716538 0.00716538 ... 0.00716538 0.00716538 0.00716538]\n"
     ]
    }
   ],
   "source": [
    "Y_pred = dtm.predict(X_test)\n",
    "print(Y_pred)\n",
    "a = pd.DataFrame(data=Y_pred)\n",
    "a.to_csv('Result.csv')"
   ]
  },
  {
   "cell_type": "code",
   "execution_count": 38,
   "metadata": {},
   "outputs": [
    {
     "data": {
      "text/plain": [
       "0.9994667015582912"
      ]
     },
     "execution_count": 38,
     "metadata": {},
     "output_type": "execute_result"
    }
   ],
   "source": [
    "dtm.score(X_train,y_train)"
   ]
  },
  {
   "cell_type": "code",
   "execution_count": 39,
   "metadata": {},
   "outputs": [
    {
     "data": {
      "text/plain": [
       "0.9933497368860873"
      ]
     },
     "execution_count": 39,
     "metadata": {},
     "output_type": "execute_result"
    }
   ],
   "source": [
    "dtm.score(X_test,y_test)"
   ]
  },
  {
   "cell_type": "code",
   "execution_count": 40,
   "metadata": {},
   "outputs": [
    {
     "name": "stdout",
     "output_type": "stream",
     "text": [
      "Decision Tree Regressor for Test RMSE 20.8257361188353\n",
      "Decision Tree Regressor for MSE 433.7112848913613\n",
      "Decision Tree Regressor for MAE 8.061661628663828\n"
     ]
    }
   ],
   "source": [
    "print('Decision Tree Regressor for Test RMSE',np.sqrt(mean_squared_error(y_test,Y_pred)))\n",
    "print('Decision Tree Regressor for MSE',mean_squared_error(y_test,Y_pred))\n",
    "print('Decision Tree Regressor for MAE',mean_absolute_error(y_test,Y_pred))"
   ]
  },
  {
   "cell_type": "markdown",
   "metadata": {},
   "source": [
    "# Decision Tree Regressor - RandomSearchCV"
   ]
  },
  {
   "cell_type": "code",
   "execution_count": 41,
   "metadata": {},
   "outputs": [
    {
     "data": {
      "text/plain": [
       "GridSearchCV(cv=5,\n",
       "             estimator=DecisionTreeRegressor(max_depth=14, max_features=4,\n",
       "                                             max_leaf_nodes=750,\n",
       "                                             min_samples_leaf=2,\n",
       "                                             min_samples_split=5,\n",
       "                                             random_state=42),\n",
       "             param_grid={'max_depth': [14, 15, 13],\n",
       "                         'max_leaf_nodes': [800, 650, 700, 750],\n",
       "                         'min_samples_leaf': [2, 4, 3, 5],\n",
       "                         'min_samples_split': [3, 4, 5, 7]})"
      ]
     },
     "execution_count": 41,
     "metadata": {},
     "output_type": "execute_result"
    }
   ],
   "source": [
    "param_grid = {\n",
    "              \"min_samples_split\": [3,4, 5, 7],\n",
    "              \"max_depth\": [ 14, 15, 13],\n",
    "              \"min_samples_leaf\": [2, 4, 3, 5],\n",
    "              \"max_leaf_nodes\": [800, 650, 700, 750],\n",
    "              }\n",
    "\n",
    "## Comment in order to publish in kaggle.\n",
    "\n",
    "grid_cv_dtm = GridSearchCV(dtm, param_grid, cv=5)\n",
    "\n",
    "grid_cv_dtm.fit(X_train,y_train)"
   ]
  },
  {
   "cell_type": "code",
   "execution_count": 42,
   "metadata": {},
   "outputs": [
    {
     "name": "stdout",
     "output_type": "stream",
     "text": [
      "R-Squared::0.9732151588364575\n",
      "Best Hyperparameters::\n",
      "{'max_depth': 15, 'max_leaf_nodes': 800, 'min_samples_leaf': 2, 'min_samples_split': 7}\n"
     ]
    }
   ],
   "source": [
    "print(\"R-Squared::{}\".format(grid_cv_dtm.best_score_))\n",
    "print(\"Best Hyperparameters::\\n{}\".format(grid_cv_dtm.best_params_))"
   ]
  },
  {
   "cell_type": "code",
   "execution_count": 44,
   "metadata": {},
   "outputs": [
    {
     "name": "stdout",
     "output_type": "stream",
     "text": [
      "[0. 0. 0. ... 0. 0. 0.]\n",
      "Decision Tree Regressor RMSE 19.55323881475803\n",
      "Decision Tree Regressor MAE 7.73569264496878\n",
      "Decision Tree Regressor MSE 382.32914814695994\n"
     ]
    }
   ],
   "source": [
    "Y_pred = grid_cv_dtm.predict(X_test)\n",
    "print(Y_pred)\n",
    "a = pd.DataFrame(data=Y_pred)\n",
    "a.to_csv('Result.csv')\n",
    "print('Decision Tree Regressor RMSE',np.sqrt(mean_squared_error(y_test,Y_pred)))\n",
    "print('Decision Tree Regressor MAE',mean_absolute_error(y_test,Y_pred))\n",
    "print('Decision Tree Regressor MSE',mean_squared_error(y_test,Y_pred))"
   ]
  },
  {
   "cell_type": "markdown",
   "metadata": {},
   "source": [
    "# Random Forest Regression "
   ]
  },
  {
   "cell_type": "code",
   "execution_count": 45,
   "metadata": {},
   "outputs": [],
   "source": [
    "reg = RandomForestRegressor(bootstrap=True, criterion='mse', max_depth=100,\n",
    "                      max_features='auto', max_leaf_nodes=None,\n",
    "                      min_impurity_decrease=0.0, min_impurity_split=None,\n",
    "                      min_samples_leaf=1, min_samples_split=2,\n",
    "                      min_weight_fraction_leaf=0.0, n_estimators=800,\n",
    "                      n_jobs=-1, oob_score=False, random_state=42,\n",
    "                      verbose=0, warm_start=False)"
   ]
  },
  {
   "cell_type": "code",
   "execution_count": 46,
   "metadata": {},
   "outputs": [
    {
     "data": {
      "text/plain": [
       "RandomForestRegressor(max_depth=100, n_estimators=800, n_jobs=-1,\n",
       "                      random_state=42)"
      ]
     },
     "execution_count": 46,
     "metadata": {},
     "output_type": "execute_result"
    }
   ],
   "source": [
    "reg.fit(X_train,y_train)"
   ]
  },
  {
   "cell_type": "code",
   "execution_count": 47,
   "metadata": {},
   "outputs": [
    {
     "data": {
      "text/plain": [
       "0.9999428289460818"
      ]
     },
     "execution_count": 47,
     "metadata": {},
     "output_type": "execute_result"
    }
   ],
   "source": [
    "reg.score(X_train,y_train)"
   ]
  },
  {
   "cell_type": "code",
   "execution_count": 48,
   "metadata": {},
   "outputs": [
    {
     "name": "stdout",
     "output_type": "stream",
     "text": [
      "[0. 0. 0. ... 0. 0. 0.]\n"
     ]
    }
   ],
   "source": [
    "Y_pred = reg.predict(X_test)\n",
    "print(Y_pred)\n"
   ]
  },
  {
   "cell_type": "code",
   "execution_count": 49,
   "metadata": {},
   "outputs": [
    {
     "name": "stdout",
     "output_type": "stream",
     "text": [
      "Random Forest Regression for Test RMSE 7.949612194798907\n",
      "Random Forest Regression for Test MSE 63.19633404769549\n",
      "Random Forest Regression for Test MAE 3.7156685216894974\n"
     ]
    }
   ],
   "source": [
    "print('Random Forest Regression for Test RMSE',np.sqrt(mean_squared_error(y_test,Y_pred)))\n",
    "print('Random Forest Regression for Test MSE',mean_squared_error(y_test,Y_pred))\n",
    "print('Random Forest Regression for Test MAE',mean_absolute_error(y_test,Y_pred))"
   ]
  },
  {
   "cell_type": "markdown",
   "metadata": {},
   "source": [
    "# Random Forest Regression "
   ]
  },
  {
   "cell_type": "code",
   "execution_count": 80,
   "metadata": {},
   "outputs": [],
   "source": [
    "reg = RandomForestRegressor(bootstrap=True, criterion='mse', max_depth=70,\n",
    "                      max_features=4, max_leaf_nodes=None,\n",
    "                      min_impurity_decrease=0.00, min_impurity_split=None,\n",
    "                      min_samples_leaf=1, min_samples_split=2,\n",
    "                      min_weight_fraction_leaf=0.00, n_estimators=600,\n",
    "                      n_jobs=-1,oob_score=False, random_state=0,\n",
    "                      verbose=0,warm_start=False)"
   ]
  },
  {
   "cell_type": "code",
   "execution_count": 81,
   "metadata": {},
   "outputs": [
    {
     "data": {
      "text/plain": [
       "RandomForestRegressor(max_depth=70, max_features=4, n_estimators=600, n_jobs=-1,\n",
       "                      random_state=0)"
      ]
     },
     "execution_count": 81,
     "metadata": {},
     "output_type": "execute_result"
    }
   ],
   "source": [
    "reg.fit(X_train,y_train)"
   ]
  },
  {
   "cell_type": "code",
   "execution_count": 82,
   "metadata": {},
   "outputs": [],
   "source": [
    "Y_pred = reg.predict(X_test)\n",
    "a = pd.DataFrame(data=Y_pred)\n",
    "a.to_csv('Result.csv')"
   ]
  },
  {
   "cell_type": "code",
   "execution_count": 83,
   "metadata": {},
   "outputs": [
    {
     "data": {
      "text/plain": [
       "0.9998645420871085"
      ]
     },
     "execution_count": 83,
     "metadata": {},
     "output_type": "execute_result"
    }
   ],
   "source": [
    "reg.score(X_train,y_train)"
   ]
  },
  {
   "cell_type": "code",
   "execution_count": 84,
   "metadata": {},
   "outputs": [
    {
     "data": {
      "text/plain": [
       "0.9983802604387979"
      ]
     },
     "execution_count": 84,
     "metadata": {},
     "output_type": "execute_result"
    }
   ],
   "source": [
    "reg.score(X_test,y_test)"
   ]
  },
  {
   "cell_type": "code",
   "execution_count": 85,
   "metadata": {},
   "outputs": [
    {
     "name": "stdout",
     "output_type": "stream",
     "text": [
      "Random Forest Regression for Test RMSE 10.277879980106025\n",
      "Random Forest Regression for Test MSE 105.63481688546422\n",
      "Random Forest Regression for Test MAE 4.09443302891933\n"
     ]
    }
   ],
   "source": [
    "print('Random Forest Regression for Test RMSE',np.sqrt(mean_squared_error(y_test,Y_pred)))\n",
    "print('Random Forest Regression for Test MSE',mean_squared_error(y_test,Y_pred))\n",
    "print('Random Forest Regression for Test MAE',mean_absolute_error(y_test,Y_pred))"
   ]
  },
  {
   "cell_type": "markdown",
   "metadata": {},
   "source": [
    "# Support Vector Regression"
   ]
  },
  {
   "cell_type": "code",
   "execution_count": 76,
   "metadata": {},
   "outputs": [],
   "source": [
    "from sklearn.preprocessing import StandardScaler"
   ]
  },
  {
   "cell_type": "code",
   "execution_count": 77,
   "metadata": {},
   "outputs": [
    {
     "data": {
      "text/plain": [
       "SVR()"
      ]
     },
     "execution_count": 77,
     "metadata": {},
     "output_type": "execute_result"
    }
   ],
   "source": [
    "regressor = SVR(kernel='rbf')\n",
    "regressor.fit(X_train,y_train)"
   ]
  },
  {
   "cell_type": "code",
   "execution_count": 78,
   "metadata": {},
   "outputs": [
    {
     "data": {
      "text/plain": [
       "0.983775279037342"
      ]
     },
     "execution_count": 78,
     "metadata": {},
     "output_type": "execute_result"
    }
   ],
   "source": [
    "regressor.score(X_train,y_train)"
   ]
  },
  {
   "cell_type": "code",
   "execution_count": 79,
   "metadata": {},
   "outputs": [],
   "source": [
    "Y_pred = regressor.predict(X_test)\n",
    "a = pd.DataFrame(data=Y_pred)\n",
    "a.to_csv('Result.csv')"
   ]
  },
  {
   "cell_type": "code",
   "execution_count": 80,
   "metadata": {},
   "outputs": [
    {
     "data": {
      "text/plain": [
       "0.9902883975500446"
      ]
     },
     "execution_count": 80,
     "metadata": {},
     "output_type": "execute_result"
    }
   ],
   "source": [
    "regressor.score(X_test,y_test)"
   ]
  },
  {
   "cell_type": "code",
   "execution_count": 81,
   "metadata": {},
   "outputs": [
    {
     "name": "stdout",
     "output_type": "stream",
     "text": [
      "Support Vector Regression for Test RMSE 25.166707122879203\n",
      "Support Vector Regression for Test MSE 633.3631474087788\n",
      "Support Vector Regression for Test MAE 13.117881361175485\n"
     ]
    }
   ],
   "source": [
    "print('Support Vector Regression for Test RMSE',np.sqrt(mean_squared_error(y_test,Y_pred)))\n",
    "print('Support Vector Regression for Test MSE',mean_squared_error(y_test,Y_pred))\n",
    "print('Support Vector Regression for Test MAE',mean_absolute_error(y_test,Y_pred))"
   ]
  },
  {
   "cell_type": "code",
   "execution_count": 79,
   "metadata": {},
   "outputs": [
    {
     "name": "stdout",
     "output_type": "stream",
     "text": [
      "Root Mean squared error using SVM on test data: 268.83006206803583\n",
      "Test Score -0.10813780269450679\n",
      "Support Vector Regression for Test MAE 253.88996625187264\n",
      "Root Mean squared error using SVM on train data: 0.10000320490945695\n",
      "Train Score 0.9999999019266096\n",
      "Root Mean squared error using SVM on test data: 268.8300613291653\n",
      "Test Score -0.10813779660314671\n",
      "Support Vector Regression for Test MAE 253.88996528131287\n",
      "Root Mean squared error using SVM on train data: 0.10001091984582791\n",
      "Train Score 0.9999999019114768\n",
      "Root Mean squared error using SVM on test data: 268.8300613291653\n",
      "Test Score -0.10813779660314671\n",
      "Support Vector Regression for Test MAE 253.88996528131287\n",
      "Root Mean squared error using SVM on train data: 0.10001091984582791\n",
      "Train Score 0.9999999019114768\n"
     ]
    }
   ],
   "source": [
    "from sklearn.svm import SVR\n",
    "import math\n",
    "opt_v = 99999\n",
    "y_opt = []\n",
    "for c in [700,800,900]:\n",
    "    reg = SVR(kernel='rbf',gamma = 'auto',C=c)\n",
    "    reg.fit(X_train,y_train)\n",
    "    y_pred = reg.predict(X_test)\n",
    "    y_pred1 = reg.predict(X_train)\n",
    "    m = mean_squared_error(y_test,y_pred)\n",
    "    m1 = mean_squared_error(y_train,y_pred1)\n",
    "    print(\"Root Mean squared error using SVM on test data:\", math.sqrt(m))\n",
    "    print('Test Score',reg.score(X_test,y_test))\n",
    "    print('Support Vector Regression for Test MAE',mean_absolute_error(y_test,y_pred))\n",
    "    print(\"Root Mean squared error using SVM on train data:\", math.sqrt(m1))\n",
    "    print('Train Score',reg.score(X_train,y_train))\n",
    "    if math.sqrt(m) < opt_v:\n",
    "        opt_v = math.sqrt(m)\n",
    "        y_opt = y_pred"
   ]
  }
 ],
 "metadata": {
  "kernelspec": {
   "display_name": "Python 3",
   "language": "python",
   "name": "python3"
  },
  "language_info": {
   "codemirror_mode": {
    "name": "ipython",
    "version": 3
   },
   "file_extension": ".py",
   "mimetype": "text/x-python",
   "name": "python",
   "nbconvert_exporter": "python",
   "pygments_lexer": "ipython3",
   "version": "3.8.5"
  }
 },
 "nbformat": 4,
 "nbformat_minor": 2
}
