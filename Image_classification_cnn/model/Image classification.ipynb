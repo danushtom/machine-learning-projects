{
 "cells": [
  {
   "cell_type": "code",
   "execution_count": 1,
   "metadata": {},
   "outputs": [],
   "source": [
    "import os\n",
    "import tensorflow as tf\n",
    "from tensorflow.keras import datasets, layers, models\n",
    "import matplotlib.pyplot as plt\n",
    "import numpy as np"
   ]
  },
  {
   "cell_type": "code",
   "execution_count": null,
   "metadata": {},
   "outputs": [],
   "source": []
  },
  {
   "cell_type": "code",
   "execution_count": 4,
   "metadata": {},
   "outputs": [
    {
     "name": "stdout",
     "output_type": "stream",
     "text": [
      "Downloading data from https://www.cs.toronto.edu/~kriz/cifar-10-python.tar.gz\n",
      "170500096/170498071 [==============================] - 82s 0us/step\n"
     ]
    },
    {
     "data": {
      "text/plain": [
       "(50000, 32, 32, 3)"
      ]
     },
     "execution_count": 4,
     "metadata": {},
     "output_type": "execute_result"
    }
   ],
   "source": [
    "(X_train, y_train), (X_test,y_test) = datasets.cifar10.load_data()\n",
    "X_train.shape"
   ]
  },
  {
   "cell_type": "code",
   "execution_count": 6,
   "metadata": {},
   "outputs": [
    {
     "data": {
      "text/plain": [
       "(10000, 32, 32, 3)"
      ]
     },
     "execution_count": 6,
     "metadata": {},
     "output_type": "execute_result"
    }
   ],
   "source": [
    "X_test.shape"
   ]
  },
  {
   "cell_type": "code",
   "execution_count": 7,
   "metadata": {},
   "outputs": [
    {
     "data": {
      "text/plain": [
       "(50000, 1)"
      ]
     },
     "execution_count": 7,
     "metadata": {},
     "output_type": "execute_result"
    }
   ],
   "source": [
    "y_train.shape\n"
   ]
  },
  {
   "cell_type": "code",
   "execution_count": 8,
   "metadata": {},
   "outputs": [
    {
     "data": {
      "text/plain": [
       "array([[6],\n",
       "       [9],\n",
       "       [9]], dtype=uint8)"
      ]
     },
     "execution_count": 8,
     "metadata": {},
     "output_type": "execute_result"
    }
   ],
   "source": [
    "y_train[:3]"
   ]
  },
  {
   "cell_type": "code",
   "execution_count": 9,
   "metadata": {},
   "outputs": [
    {
     "data": {
      "text/plain": [
       "array([6, 9, 9, 4, 1], dtype=uint8)"
      ]
     },
     "execution_count": 9,
     "metadata": {},
     "output_type": "execute_result"
    }
   ],
   "source": [
    "y_train=y_train.reshape(-1,)\n",
    "y_train[:5]"
   ]
  },
  {
   "cell_type": "code",
   "execution_count": 10,
   "metadata": {},
   "outputs": [
    {
     "data": {
      "text/plain": [
       "array([[[[158, 112,  49],\n",
       "         [159, 111,  47],\n",
       "         [165, 116,  51],\n",
       "         ...,\n",
       "         [137,  95,  36],\n",
       "         [126,  91,  36],\n",
       "         [116,  85,  33]],\n",
       "\n",
       "        [[152, 112,  51],\n",
       "         [151, 110,  40],\n",
       "         [159, 114,  45],\n",
       "         ...,\n",
       "         [136,  95,  31],\n",
       "         [125,  91,  32],\n",
       "         [119,  88,  34]],\n",
       "\n",
       "        [[151, 110,  47],\n",
       "         [151, 109,  33],\n",
       "         [158, 111,  36],\n",
       "         ...,\n",
       "         [139,  98,  34],\n",
       "         [130,  95,  34],\n",
       "         [120,  89,  33]],\n",
       "\n",
       "        ...,\n",
       "\n",
       "        [[ 68, 124, 177],\n",
       "         [ 42, 100, 148],\n",
       "         [ 31,  88, 137],\n",
       "         ...,\n",
       "         [ 38,  97, 146],\n",
       "         [ 13,  64, 108],\n",
       "         [ 40,  85, 127]],\n",
       "\n",
       "        [[ 61, 116, 168],\n",
       "         [ 49, 102, 148],\n",
       "         [ 35,  85, 132],\n",
       "         ...,\n",
       "         [ 26,  82, 130],\n",
       "         [ 29,  82, 126],\n",
       "         [ 20,  64, 107]],\n",
       "\n",
       "        [[ 54, 107, 160],\n",
       "         [ 56, 105, 149],\n",
       "         [ 45,  89, 132],\n",
       "         ...,\n",
       "         [ 24,  77, 124],\n",
       "         [ 34,  84, 129],\n",
       "         [ 21,  67, 110]]],\n",
       "\n",
       "\n",
       "       [[[235, 235, 235],\n",
       "         [231, 231, 231],\n",
       "         [232, 232, 232],\n",
       "         ...,\n",
       "         [233, 233, 233],\n",
       "         [233, 233, 233],\n",
       "         [232, 232, 232]],\n",
       "\n",
       "        [[238, 238, 238],\n",
       "         [235, 235, 235],\n",
       "         [235, 235, 235],\n",
       "         ...,\n",
       "         [236, 236, 236],\n",
       "         [236, 236, 236],\n",
       "         [235, 235, 235]],\n",
       "\n",
       "        [[237, 237, 237],\n",
       "         [234, 234, 234],\n",
       "         [234, 234, 234],\n",
       "         ...,\n",
       "         [235, 235, 235],\n",
       "         [235, 235, 235],\n",
       "         [234, 234, 234]],\n",
       "\n",
       "        ...,\n",
       "\n",
       "        [[ 87,  99,  89],\n",
       "         [ 43,  51,  37],\n",
       "         [ 19,  23,  11],\n",
       "         ...,\n",
       "         [169, 184, 179],\n",
       "         [182, 197, 193],\n",
       "         [188, 202, 201]],\n",
       "\n",
       "        [[ 82,  96,  82],\n",
       "         [ 46,  57,  36],\n",
       "         [ 36,  44,  22],\n",
       "         ...,\n",
       "         [174, 189, 183],\n",
       "         [185, 200, 196],\n",
       "         [187, 202, 200]],\n",
       "\n",
       "        [[ 85, 101,  83],\n",
       "         [ 62,  75,  48],\n",
       "         [ 58,  67,  38],\n",
       "         ...,\n",
       "         [168, 183, 178],\n",
       "         [180, 195, 191],\n",
       "         [186, 200, 199]]],\n",
       "\n",
       "\n",
       "       [[[158, 190, 222],\n",
       "         [158, 187, 218],\n",
       "         [139, 166, 194],\n",
       "         ...,\n",
       "         [228, 231, 234],\n",
       "         [237, 239, 243],\n",
       "         [238, 241, 246]],\n",
       "\n",
       "        [[170, 200, 229],\n",
       "         [172, 199, 226],\n",
       "         [151, 176, 201],\n",
       "         ...,\n",
       "         [232, 232, 236],\n",
       "         [246, 246, 250],\n",
       "         [246, 247, 251]],\n",
       "\n",
       "        [[174, 201, 225],\n",
       "         [176, 200, 222],\n",
       "         [157, 179, 199],\n",
       "         ...,\n",
       "         [230, 229, 232],\n",
       "         [250, 249, 251],\n",
       "         [245, 244, 247]],\n",
       "\n",
       "        ...,\n",
       "\n",
       "        [[ 31,  40,  45],\n",
       "         [ 30,  39,  44],\n",
       "         [ 26,  35,  40],\n",
       "         ...,\n",
       "         [ 37,  40,  46],\n",
       "         [  9,  13,  14],\n",
       "         [  4,   7,   5]],\n",
       "\n",
       "        [[ 23,  34,  39],\n",
       "         [ 27,  38,  43],\n",
       "         [ 25,  36,  41],\n",
       "         ...,\n",
       "         [ 19,  20,  24],\n",
       "         [  4,   6,   3],\n",
       "         [  5,   7,   3]],\n",
       "\n",
       "        [[ 28,  41,  47],\n",
       "         [ 30,  43,  50],\n",
       "         [ 32,  45,  52],\n",
       "         ...,\n",
       "         [  5,   6,   8],\n",
       "         [  4,   5,   3],\n",
       "         [  7,   8,   7]]],\n",
       "\n",
       "\n",
       "       [[[155, 156, 149],\n",
       "         [167, 176, 187],\n",
       "         [176, 179, 193],\n",
       "         ...,\n",
       "         [201, 196, 209],\n",
       "         [202, 202, 212],\n",
       "         [192, 183, 171]],\n",
       "\n",
       "        [[153, 155, 157],\n",
       "         [163, 179, 204],\n",
       "         [171, 184, 215],\n",
       "         ...,\n",
       "         [202, 208, 222],\n",
       "         [203, 215, 227],\n",
       "         [189, 190, 183]],\n",
       "\n",
       "        [[155, 154, 153],\n",
       "         [160, 178, 201],\n",
       "         [168, 185, 213],\n",
       "         ...,\n",
       "         [206, 208, 215],\n",
       "         [204, 215, 224],\n",
       "         [189, 191, 184]],\n",
       "\n",
       "        ...,\n",
       "\n",
       "        [[ 89,  79,  62],\n",
       "         [ 57,  53,  52],\n",
       "         [ 61,  61,  59],\n",
       "         ...,\n",
       "         [ 89, 119, 101],\n",
       "         [ 59,  79,  62],\n",
       "         [ 67,  74,  50]],\n",
       "\n",
       "        [[ 89,  82,  62],\n",
       "         [ 60,  58,  53],\n",
       "         [ 63,  66,  58],\n",
       "         ...,\n",
       "         [ 57,  66,  58],\n",
       "         [ 61,  64,  54],\n",
       "         [ 75,  69,  51]],\n",
       "\n",
       "        [[ 92,  78,  64],\n",
       "         [ 60,  52,  51],\n",
       "         [ 61,  58,  51],\n",
       "         ...,\n",
       "         [ 60,  63,  50],\n",
       "         [ 64,  65,  52],\n",
       "         [ 73,  68,  50]]],\n",
       "\n",
       "\n",
       "       [[[ 65,  68,  50],\n",
       "         [ 70,  81,  64],\n",
       "         [ 48,  64,  46],\n",
       "         ...,\n",
       "         [ 51,  67,  41],\n",
       "         [ 54,  76,  53],\n",
       "         [ 67,  87,  66]],\n",
       "\n",
       "        [[ 69,  80,  58],\n",
       "         [ 79, 102,  81],\n",
       "         [ 60,  74,  57],\n",
       "         ...,\n",
       "         [ 54,  66,  44],\n",
       "         [ 65,  90,  69],\n",
       "         [ 61,  81,  66]],\n",
       "\n",
       "        [[ 73,  95,  72],\n",
       "         [ 84, 109,  87],\n",
       "         [ 72,  88,  70],\n",
       "         ...,\n",
       "         [ 78,  98,  75],\n",
       "         [ 73,  98,  77],\n",
       "         [ 48,  59,  51]],\n",
       "\n",
       "        ...,\n",
       "\n",
       "        [[ 95, 127,  92],\n",
       "         [ 91, 123,  86],\n",
       "         [ 57,  79,  45],\n",
       "         ...,\n",
       "         [144, 172, 108],\n",
       "         [170, 201, 134],\n",
       "         [122, 143,  98]],\n",
       "\n",
       "        [[ 94, 125,  82],\n",
       "         [ 75, 104,  71],\n",
       "         [ 32,  52,  24],\n",
       "         ...,\n",
       "         [143, 181, 116],\n",
       "         [154, 188, 123],\n",
       "         [106, 129,  89]],\n",
       "\n",
       "        [[ 78, 102,  65],\n",
       "         [ 35,  51,  27],\n",
       "         [ 24,  40,  17],\n",
       "         ...,\n",
       "         [143, 179, 136],\n",
       "         [154, 185, 146],\n",
       "         [128, 156, 117]]]], dtype=uint8)"
      ]
     },
     "execution_count": 10,
     "metadata": {},
     "output_type": "execute_result"
    }
   ],
   "source": [
    "X_test[:5]"
   ]
  },
  {
   "cell_type": "code",
   "execution_count": 11,
   "metadata": {},
   "outputs": [],
   "source": [
    "\n",
    "Names = [\"airplane\",\"automobile\",\"bird\",\"cat\",\"deer\",\"dog\",\"frog\",\"horse\",\"ship\",\"truck\"]"
   ]
  },
  {
   "cell_type": "code",
   "execution_count": 12,
   "metadata": {},
   "outputs": [
    {
     "data": {
      "text/plain": [
       "['airplane',\n",
       " 'automobile',\n",
       " 'bird',\n",
       " 'cat',\n",
       " 'deer',\n",
       " 'dog',\n",
       " 'frog',\n",
       " 'horse',\n",
       " 'ship',\n",
       " 'truck']"
      ]
     },
     "execution_count": 12,
     "metadata": {},
     "output_type": "execute_result"
    }
   ],
   "source": [
    "Names"
   ]
  },
  {
   "cell_type": "code",
   "execution_count": 13,
   "metadata": {},
   "outputs": [
    {
     "data": {
      "text/plain": [
       "['airplane', 'automobile', 'bird', 'cat', 'deer', 'dog']"
      ]
     },
     "execution_count": 13,
     "metadata": {},
     "output_type": "execute_result"
    }
   ],
   "source": [
    "Names[:6]"
   ]
  },
  {
   "cell_type": "code",
   "execution_count": 37,
   "metadata": {},
   "outputs": [],
   "source": [
    "def plots(x,y,ind):\n",
    "    plt.figure(figsize=(5,1))\n",
    "    plt.imshow(x[ind])\n",
    "    plt.xlabel(Names[y[ind]])"
   ]
  },
  {
   "cell_type": "code",
   "execution_count": 38,
   "metadata": {},
   "outputs": [
    {
     "data": {
      "image/png": "[encoded data removed]",
      "text/plain": [
       "<Figure size 360x72 with 1 Axes>"
      ]
     },
     "metadata": {
      "needs_background": "light"
     },
     "output_type": "display_data"
    }
   ],
   "source": [
    "plots(X_train,y_train,0)"
   ]
  },
  {
   "cell_type": "code",
   "execution_count": 43,
   "metadata": {},
   "outputs": [],
   "source": [
    "#normalise the data\n",
    "X_train=X_train/255\n",
    "X_test=X_test/255"
   ]
  },
  {
   "cell_type": "code",
   "execution_count": 45,
   "metadata": {},
   "outputs": [],
   "source": [
    "#CNN model\n",
    "# Conv2d+Relu->Maxpooling ->Conv2D+relu->Maxpooling-> Neural network\n",
    "cnn=models.Sequential([\n",
    "    #first conv2d+pooling\n",
    "    layers.Conv2D(filters=32,kernel_size=(3,3),activation='relu',input_shape=(32,32,3)),\n",
    "    layers.MaxPooling2D((2,2)),\n",
    "    #second\n",
    "    layers.Conv2D(filters=64,kernel_size=(3,3),activation='relu'),\n",
    "    layers.MaxPooling2D((2,2)),\n",
    "    #neural network\n",
    "    layers.Flatten(),\n",
    "    layers.Dense(64,activation='relu'),\n",
    "    layers.Dense(10,activation='softmax')\n",
    "    \n",
    "    \n",
    "])"
   ]
  },
  {
   "cell_type": "code",
   "execution_count": 47,
   "metadata": {},
   "outputs": [],
   "source": [
    "cnn.compile(\n",
    "optimizer='adam',\n",
    "    loss='sparse_categorical_crossentropy',\n",
    "    metrics=['accuracy']\n",
    ")"
   ]
  },
  {
   "cell_type": "code",
   "execution_count": 48,
   "metadata": {},
   "outputs": [
    {
     "name": "stdout",
     "output_type": "stream",
     "text": [
      "Epoch 1/10\n",
      "1563/1563 [==============================] - 43s 27ms/step - loss: 1.6870 - accuracy: 0.3866\n",
      "Epoch 2/10\n",
      "1563/1563 [==============================] - 37s 24ms/step - loss: 1.1530 - accuracy: 0.5941\n",
      "Epoch 3/10\n",
      "1563/1563 [==============================] - 39s 25ms/step - loss: 0.9821 - accuracy: 0.6576\n",
      "Epoch 4/10\n",
      "1563/1563 [==============================] - 39s 25ms/step - loss: 0.8924 - accuracy: 0.6903\n",
      "Epoch 5/10\n",
      "1563/1563 [==============================] - 40s 26ms/step - loss: 0.8216 - accuracy: 0.7120\n",
      "Epoch 6/10\n",
      "1563/1563 [==============================] - 40s 26ms/step - loss: 0.7532 - accuracy: 0.7389\n",
      "Epoch 7/10\n",
      "1563/1563 [==============================] - 37s 23ms/step - loss: 0.6995 - accuracy: 0.7570\n",
      "Epoch 8/10\n",
      "1563/1563 [==============================] - 38s 24ms/step - loss: 0.6600 - accuracy: 0.7704\n",
      "Epoch 9/10\n",
      "1563/1563 [==============================] - 37s 24ms/step - loss: 0.6154 - accuracy: 0.7853\n",
      "Epoch 10/10\n",
      "1563/1563 [==============================] - 43s 27ms/step - loss: 0.5750 - accuracy: 0.7980\n"
     ]
    },
    {
     "data": {
      "text/plain": [
       "<tensorflow.python.keras.callbacks.History at 0x14d126100>"
      ]
     },
     "execution_count": 48,
     "metadata": {},
     "output_type": "execute_result"
    }
   ],
   "source": [
    "cnn.fit(X_train,y_train,epochs=10)"
   ]
  },
  {
   "cell_type": "code",
   "execution_count": 50,
   "metadata": {},
   "outputs": [
    {
     "name": "stdout",
     "output_type": "stream",
     "text": [
      "313/313 [==============================] - 2s 7ms/step - loss: 0.9265 - accuracy: 0.7042\n"
     ]
    },
    {
     "data": {
      "text/plain": [
       "[0.9265029430389404, 0.704200029373169]"
      ]
     },
     "execution_count": 50,
     "metadata": {},
     "output_type": "execute_result"
    }
   ],
   "source": [
    "cnn.evaluate(X_test,y_test)"
   ]
  },
  {
   "cell_type": "code",
   "execution_count": 51,
   "metadata": {},
   "outputs": [
    {
     "data": {
      "text/plain": [
       "array([[5.7231489e-05, 3.0014163e-04, 1.1337959e-03, 8.4655863e-01,\n",
       "        7.8623014e-04, 8.8803187e-02, 3.1873640e-02, 7.0261529e-05,\n",
       "        3.0386873e-02, 2.9978133e-05],\n",
       "       [4.4310614e-03, 1.9726051e-01, 4.8742322e-07, 1.2926015e-09,\n",
       "        5.2100977e-09, 1.4948028e-10, 2.5175112e-10, 8.0420230e-09,\n",
       "        7.9781938e-01, 4.8861076e-04],\n",
       "       [3.4557950e-02, 7.8201848e-01, 2.1467085e-03, 2.6827436e-03,\n",
       "        7.6344272e-04, 2.9949295e-05, 7.3757335e-05, 3.7518237e-04,\n",
       "        1.6449462e-01, 1.2857143e-02],\n",
       "       [9.0670717e-01, 3.1039000e-02, 3.4225346e-03, 3.3975000e-04,\n",
       "        2.3156137e-04, 5.1452926e-06, 7.2719381e-06, 1.6069160e-05,\n",
       "        5.8154698e-02, 7.6846285e-05],\n",
       "       [2.3878727e-08, 1.9573002e-07, 3.4144749e-03, 1.1451994e-03,\n",
       "        9.5629996e-01, 3.9044982e-05, 3.9096799e-02, 2.0738680e-08,\n",
       "        4.2855440e-06, 1.0340893e-08]], dtype=float32)"
      ]
     },
     "execution_count": 51,
     "metadata": {},
     "output_type": "execute_result"
    }
   ],
   "source": [
    "ypred=cnn.predict(X_test)\n",
    "ypred[:5]"
   ]
  },
  {
   "cell_type": "code",
   "execution_count": 52,
   "metadata": {},
   "outputs": [
    {
     "data": {
      "text/plain": [
       "[3, 8, 1, 0, 4]"
      ]
     },
     "execution_count": 52,
     "metadata": {},
     "output_type": "execute_result"
    }
   ],
   "source": [
    "yclass=[np.argmax(e) for e in ypred]\n",
    "yclass[:5]"
   ]
  },
  {
   "cell_type": "code",
   "execution_count": 55,
   "metadata": {},
   "outputs": [
    {
     "data": {
      "text/plain": [
       "array([3, 8, 8, 0, 6], dtype=uint8)"
      ]
     },
     "execution_count": 55,
     "metadata": {},
     "output_type": "execute_result"
    }
   ],
   "source": [
    "y_test=y_test.reshape(-1,)\n",
    "y_test[:5]"
   ]
  },
  {
   "cell_type": "code",
   "execution_count": 56,
   "metadata": {},
   "outputs": [
    {
     "data": {
      "image/png": "[encoded data removed]",
      "text/plain": [
       "<Figure size 360x72 with 1 Axes>"
      ]
     },
     "metadata": {
      "needs_background": "light"
     },
     "output_type": "display_data"
    }
   ],
   "source": [
    "plots(X_test,y_test,0)"
   ]
  },
  {
   "cell_type": "code",
   "execution_count": 57,
   "metadata": {},
   "outputs": [
    {
     "data": {
      "text/plain": [
       "'cat'"
      ]
     },
     "execution_count": 57,
     "metadata": {},
     "output_type": "execute_result"
    }
   ],
   "source": [
    "Names[yclass[0]]"
   ]
  },
  {
   "cell_type": "code",
   "execution_count": 58,
   "metadata": {},
   "outputs": [
    {
     "data": {
      "image/png": "[encoded data removed]",
      "text/plain": [
       "<Figure size 360x72 with 1 Axes>"
      ]
     },
     "metadata": {
      "needs_background": "light"
     },
     "output_type": "display_data"
    }
   ],
   "source": [
    "plots(X_test,y_test,5)\n"
   ]
  },
  {
   "cell_type": "code",
   "execution_count": 59,
   "metadata": {},
   "outputs": [
    {
     "data": {
      "text/plain": [
       "'frog'"
      ]
     },
     "execution_count": 59,
     "metadata": {},
     "output_type": "execute_result"
    }
   ],
   "source": [
    "Names[yclass[5]]"
   ]
  },
  {
   "cell_type": "code",
   "execution_count": 61,
   "metadata": {},
   "outputs": [
    {
     "data": {
      "image/png": "[encoded data removed]",
      "text/plain": [
       "<Figure size 360x72 with 1 Axes>"
      ]
     },
     "metadata": {
      "needs_background": "light"
     },
     "output_type": "display_data"
    }
   ],
   "source": [
    "plots(X_test,y_test,6870)"
   ]
  },
  {
   "cell_type": "code",
   "execution_count": 62,
   "metadata": {},
   "outputs": [
    {
     "data": {
      "text/plain": [
       "'horse'"
      ]
     },
     "execution_count": 62,
     "metadata": {},
     "output_type": "execute_result"
    }
   ],
   "source": [
    "Names[yclass[6870]]"
   ]
  },
  {
   "cell_type": "code",
   "execution_count": 63,
   "metadata": {},
   "outputs": [],
   "source": [
    "import pickle"
   ]
  },
  {
   "cell_type": "code",
   "execution_count": 69,
   "metadata": {},
   "outputs": [],
   "source": [
    "Pkl_Filename = \"./cnn_image_classification.pkl\"  \n",
    "\n",
    "with open(Pkl_Filename, 'wb') as file:  \n",
    "    pickle.dump([X_train,y_train], file)\n"
   ]
  },
  {
   "cell_type": "code",
   "execution_count": 70,
   "metadata": {},
   "outputs": [
    {
     "data": {
      "text/plain": [
       "[array([[[[0.23137255, 0.24313725, 0.24705882],\n",
       "          [0.16862745, 0.18039216, 0.17647059],\n",
       "          [0.19607843, 0.18823529, 0.16862745],\n",
       "          ...,\n",
       "          [0.61960784, 0.51764706, 0.42352941],\n",
       "          [0.59607843, 0.49019608, 0.4       ],\n",
       "          [0.58039216, 0.48627451, 0.40392157]],\n",
       " \n",
       "         [[0.0627451 , 0.07843137, 0.07843137],\n",
       "          [0.        , 0.        , 0.        ],\n",
       "          [0.07058824, 0.03137255, 0.        ],\n",
       "          ...,\n",
       "          [0.48235294, 0.34509804, 0.21568627],\n",
       "          [0.46666667, 0.3254902 , 0.19607843],\n",
       "          [0.47843137, 0.34117647, 0.22352941]],\n",
       " \n",
       "         [[0.09803922, 0.09411765, 0.08235294],\n",
       "          [0.0627451 , 0.02745098, 0.        ],\n",
       "          [0.19215686, 0.10588235, 0.03137255],\n",
       "          ...,\n",
       "          [0.4627451 , 0.32941176, 0.19607843],\n",
       "          [0.47058824, 0.32941176, 0.19607843],\n",
       "          [0.42745098, 0.28627451, 0.16470588]],\n",
       " \n",
       "         ...,\n",
       " \n",
       "         [[0.81568627, 0.66666667, 0.37647059],\n",
       "          [0.78823529, 0.6       , 0.13333333],\n",
       "          [0.77647059, 0.63137255, 0.10196078],\n",
       "          ...,\n",
       "          [0.62745098, 0.52156863, 0.2745098 ],\n",
       "          [0.21960784, 0.12156863, 0.02745098],\n",
       "          [0.20784314, 0.13333333, 0.07843137]],\n",
       " \n",
       "         [[0.70588235, 0.54509804, 0.37647059],\n",
       "          [0.67843137, 0.48235294, 0.16470588],\n",
       "          [0.72941176, 0.56470588, 0.11764706],\n",
       "          ...,\n",
       "          [0.72156863, 0.58039216, 0.36862745],\n",
       "          [0.38039216, 0.24313725, 0.13333333],\n",
       "          [0.3254902 , 0.20784314, 0.13333333]],\n",
       " \n",
       "         [[0.69411765, 0.56470588, 0.45490196],\n",
       "          [0.65882353, 0.50588235, 0.36862745],\n",
       "          [0.70196078, 0.55686275, 0.34117647],\n",
       "          ...,\n",
       "          [0.84705882, 0.72156863, 0.54901961],\n",
       "          [0.59215686, 0.4627451 , 0.32941176],\n",
       "          [0.48235294, 0.36078431, 0.28235294]]],\n",
       " \n",
       " \n",
       "        [[[0.60392157, 0.69411765, 0.73333333],\n",
       "          [0.49411765, 0.5372549 , 0.53333333],\n",
       "          [0.41176471, 0.40784314, 0.37254902],\n",
       "          ...,\n",
       "          [0.35686275, 0.37254902, 0.27843137],\n",
       "          [0.34117647, 0.35294118, 0.27843137],\n",
       "          [0.30980392, 0.31764706, 0.2745098 ]],\n",
       " \n",
       "         [[0.54901961, 0.62745098, 0.6627451 ],\n",
       "          [0.56862745, 0.6       , 0.60392157],\n",
       "          [0.49019608, 0.49019608, 0.4627451 ],\n",
       "          ...,\n",
       "          [0.37647059, 0.38823529, 0.30588235],\n",
       "          [0.30196078, 0.31372549, 0.24313725],\n",
       "          [0.27843137, 0.28627451, 0.23921569]],\n",
       " \n",
       "         [[0.54901961, 0.60784314, 0.64313725],\n",
       "          [0.54509804, 0.57254902, 0.58431373],\n",
       "          [0.45098039, 0.45098039, 0.43921569],\n",
       "          ...,\n",
       "          [0.30980392, 0.32156863, 0.25098039],\n",
       "          [0.26666667, 0.2745098 , 0.21568627],\n",
       "          [0.2627451 , 0.27058824, 0.21568627]],\n",
       " \n",
       "         ...,\n",
       " \n",
       "         [[0.68627451, 0.65490196, 0.65098039],\n",
       "          [0.61176471, 0.60392157, 0.62745098],\n",
       "          [0.60392157, 0.62745098, 0.66666667],\n",
       "          ...,\n",
       "          [0.16470588, 0.13333333, 0.14117647],\n",
       "          [0.23921569, 0.20784314, 0.22352941],\n",
       "          [0.36470588, 0.3254902 , 0.35686275]],\n",
       " \n",
       "         [[0.64705882, 0.60392157, 0.50196078],\n",
       "          [0.61176471, 0.59607843, 0.50980392],\n",
       "          [0.62352941, 0.63137255, 0.55686275],\n",
       "          ...,\n",
       "          [0.40392157, 0.36470588, 0.37647059],\n",
       "          [0.48235294, 0.44705882, 0.47058824],\n",
       "          [0.51372549, 0.4745098 , 0.51372549]],\n",
       " \n",
       "         [[0.63921569, 0.58039216, 0.47058824],\n",
       "          [0.61960784, 0.58039216, 0.47843137],\n",
       "          [0.63921569, 0.61176471, 0.52156863],\n",
       "          ...,\n",
       "          [0.56078431, 0.52156863, 0.54509804],\n",
       "          [0.56078431, 0.5254902 , 0.55686275],\n",
       "          [0.56078431, 0.52156863, 0.56470588]]],\n",
       " \n",
       " \n",
       "        [[[1.        , 1.        , 1.        ],\n",
       "          [0.99215686, 0.99215686, 0.99215686],\n",
       "          [0.99215686, 0.99215686, 0.99215686],\n",
       "          ...,\n",
       "          [0.99215686, 0.99215686, 0.99215686],\n",
       "          [0.99215686, 0.99215686, 0.99215686],\n",
       "          [0.99215686, 0.99215686, 0.99215686]],\n",
       " \n",
       "         [[1.        , 1.        , 1.        ],\n",
       "          [1.        , 1.        , 1.        ],\n",
       "          [1.        , 1.        , 1.        ],\n",
       "          ...,\n",
       "          [1.        , 1.        , 1.        ],\n",
       "          [1.        , 1.        , 1.        ],\n",
       "          [1.        , 1.        , 1.        ]],\n",
       " \n",
       "         [[1.        , 1.        , 1.        ],\n",
       "          [0.99607843, 0.99607843, 0.99607843],\n",
       "          [0.99607843, 0.99607843, 0.99607843],\n",
       "          ...,\n",
       "          [0.99607843, 0.99607843, 0.99607843],\n",
       "          [0.99607843, 0.99607843, 0.99607843],\n",
       "          [0.99607843, 0.99607843, 0.99607843]],\n",
       " \n",
       "         ...,\n",
       " \n",
       "         [[0.44313725, 0.47058824, 0.43921569],\n",
       "          [0.43529412, 0.4627451 , 0.43529412],\n",
       "          [0.41176471, 0.43921569, 0.41568627],\n",
       "          ...,\n",
       "          [0.28235294, 0.31764706, 0.31372549],\n",
       "          [0.28235294, 0.31372549, 0.30980392],\n",
       "          [0.28235294, 0.31372549, 0.30980392]],\n",
       " \n",
       "         [[0.43529412, 0.4627451 , 0.43137255],\n",
       "          [0.40784314, 0.43529412, 0.40784314],\n",
       "          [0.38823529, 0.41568627, 0.38431373],\n",
       "          ...,\n",
       "          [0.26666667, 0.29411765, 0.28627451],\n",
       "          [0.2745098 , 0.29803922, 0.29411765],\n",
       "          [0.30588235, 0.32941176, 0.32156863]],\n",
       " \n",
       "         [[0.41568627, 0.44313725, 0.41176471],\n",
       "          [0.38823529, 0.41568627, 0.38431373],\n",
       "          [0.37254902, 0.4       , 0.36862745],\n",
       "          ...,\n",
       "          [0.30588235, 0.33333333, 0.3254902 ],\n",
       "          [0.30980392, 0.33333333, 0.3254902 ],\n",
       "          [0.31372549, 0.3372549 , 0.32941176]]],\n",
       " \n",
       " \n",
       "        ...,\n",
       " \n",
       " \n",
       "        [[[0.1372549 , 0.69803922, 0.92156863],\n",
       "          [0.15686275, 0.69019608, 0.9372549 ],\n",
       "          [0.16470588, 0.69019608, 0.94509804],\n",
       "          ...,\n",
       "          [0.38823529, 0.69411765, 0.85882353],\n",
       "          [0.30980392, 0.57647059, 0.77254902],\n",
       "          [0.34901961, 0.58039216, 0.74117647]],\n",
       " \n",
       "         [[0.22352941, 0.71372549, 0.91764706],\n",
       "          [0.17254902, 0.72156863, 0.98039216],\n",
       "          [0.19607843, 0.71764706, 0.94117647],\n",
       "          ...,\n",
       "          [0.61176471, 0.71372549, 0.78431373],\n",
       "          [0.55294118, 0.69411765, 0.80784314],\n",
       "          [0.45490196, 0.58431373, 0.68627451]],\n",
       " \n",
       "         [[0.38431373, 0.77254902, 0.92941176],\n",
       "          [0.25098039, 0.74117647, 0.98823529],\n",
       "          [0.27058824, 0.75294118, 0.96078431],\n",
       "          ...,\n",
       "          [0.7372549 , 0.76470588, 0.80784314],\n",
       "          [0.46666667, 0.52941176, 0.57647059],\n",
       "          [0.23921569, 0.30980392, 0.35294118]],\n",
       " \n",
       "         ...,\n",
       " \n",
       "         [[0.28627451, 0.30980392, 0.30196078],\n",
       "          [0.20784314, 0.24705882, 0.26666667],\n",
       "          [0.21176471, 0.26666667, 0.31372549],\n",
       "          ...,\n",
       "          [0.06666667, 0.15686275, 0.25098039],\n",
       "          [0.08235294, 0.14117647, 0.2       ],\n",
       "          [0.12941176, 0.18823529, 0.19215686]],\n",
       " \n",
       "         [[0.23921569, 0.26666667, 0.29411765],\n",
       "          [0.21568627, 0.2745098 , 0.3372549 ],\n",
       "          [0.22352941, 0.30980392, 0.40392157],\n",
       "          ...,\n",
       "          [0.09411765, 0.18823529, 0.28235294],\n",
       "          [0.06666667, 0.1372549 , 0.20784314],\n",
       "          [0.02745098, 0.09019608, 0.1254902 ]],\n",
       " \n",
       "         [[0.17254902, 0.21960784, 0.28627451],\n",
       "          [0.18039216, 0.25882353, 0.34509804],\n",
       "          [0.19215686, 0.30196078, 0.41176471],\n",
       "          ...,\n",
       "          [0.10588235, 0.20392157, 0.30196078],\n",
       "          [0.08235294, 0.16862745, 0.25882353],\n",
       "          [0.04705882, 0.12156863, 0.19607843]]],\n",
       " \n",
       " \n",
       "        [[[0.74117647, 0.82745098, 0.94117647],\n",
       "          [0.72941176, 0.81568627, 0.9254902 ],\n",
       "          [0.7254902 , 0.81176471, 0.92156863],\n",
       "          ...,\n",
       "          [0.68627451, 0.76470588, 0.87843137],\n",
       "          [0.6745098 , 0.76078431, 0.87058824],\n",
       "          [0.6627451 , 0.76078431, 0.8627451 ]],\n",
       " \n",
       "         [[0.76078431, 0.82352941, 0.9372549 ],\n",
       "          [0.74901961, 0.81176471, 0.9254902 ],\n",
       "          [0.74509804, 0.80784314, 0.92156863],\n",
       "          ...,\n",
       "          [0.67843137, 0.75294118, 0.8627451 ],\n",
       "          [0.67058824, 0.74901961, 0.85490196],\n",
       "          [0.65490196, 0.74509804, 0.84705882]],\n",
       " \n",
       "         [[0.81568627, 0.85882353, 0.95686275],\n",
       "          [0.80392157, 0.84705882, 0.94117647],\n",
       "          [0.8       , 0.84313725, 0.9372549 ],\n",
       "          ...,\n",
       "          [0.68627451, 0.74901961, 0.85098039],\n",
       "          [0.6745098 , 0.74509804, 0.84705882],\n",
       "          [0.6627451 , 0.74901961, 0.84313725]],\n",
       " \n",
       "         ...,\n",
       " \n",
       "         [[0.81176471, 0.78039216, 0.70980392],\n",
       "          [0.79607843, 0.76470588, 0.68627451],\n",
       "          [0.79607843, 0.76862745, 0.67843137],\n",
       "          ...,\n",
       "          [0.52941176, 0.51764706, 0.49803922],\n",
       "          [0.63529412, 0.61960784, 0.58823529],\n",
       "          [0.65882353, 0.63921569, 0.59215686]],\n",
       " \n",
       "         [[0.77647059, 0.74509804, 0.66666667],\n",
       "          [0.74117647, 0.70980392, 0.62352941],\n",
       "          [0.70588235, 0.6745098 , 0.57647059],\n",
       "          ...,\n",
       "          [0.69803922, 0.67058824, 0.62745098],\n",
       "          [0.68627451, 0.6627451 , 0.61176471],\n",
       "          [0.68627451, 0.6627451 , 0.60392157]],\n",
       " \n",
       "         [[0.77647059, 0.74117647, 0.67843137],\n",
       "          [0.74117647, 0.70980392, 0.63529412],\n",
       "          [0.69803922, 0.66666667, 0.58431373],\n",
       "          ...,\n",
       "          [0.76470588, 0.72156863, 0.6627451 ],\n",
       "          [0.76862745, 0.74117647, 0.67058824],\n",
       "          [0.76470588, 0.74509804, 0.67058824]]],\n",
       " \n",
       " \n",
       "        [[[0.89803922, 0.89803922, 0.9372549 ],\n",
       "          [0.9254902 , 0.92941176, 0.96862745],\n",
       "          [0.91764706, 0.9254902 , 0.96862745],\n",
       "          ...,\n",
       "          [0.85098039, 0.85882353, 0.91372549],\n",
       "          [0.86666667, 0.8745098 , 0.91764706],\n",
       "          [0.87058824, 0.8745098 , 0.91372549]],\n",
       " \n",
       "         [[0.87058824, 0.86666667, 0.89803922],\n",
       "          [0.9372549 , 0.9372549 , 0.97647059],\n",
       "          [0.91372549, 0.91764706, 0.96470588],\n",
       "          ...,\n",
       "          [0.8745098 , 0.8745098 , 0.9254902 ],\n",
       "          [0.89019608, 0.89411765, 0.93333333],\n",
       "          [0.82352941, 0.82745098, 0.8627451 ]],\n",
       " \n",
       "         [[0.83529412, 0.80784314, 0.82745098],\n",
       "          [0.91764706, 0.90980392, 0.9372549 ],\n",
       "          [0.90588235, 0.91372549, 0.95686275],\n",
       "          ...,\n",
       "          [0.8627451 , 0.8627451 , 0.90980392],\n",
       "          [0.8627451 , 0.85882353, 0.90980392],\n",
       "          [0.79215686, 0.79607843, 0.84313725]],\n",
       " \n",
       "         ...,\n",
       " \n",
       "         [[0.58823529, 0.56078431, 0.52941176],\n",
       "          [0.54901961, 0.52941176, 0.49803922],\n",
       "          [0.51764706, 0.49803922, 0.47058824],\n",
       "          ...,\n",
       "          [0.87843137, 0.87058824, 0.85490196],\n",
       "          [0.90196078, 0.89411765, 0.88235294],\n",
       "          [0.94509804, 0.94509804, 0.93333333]],\n",
       " \n",
       "         [[0.5372549 , 0.51764706, 0.49411765],\n",
       "          [0.50980392, 0.49803922, 0.47058824],\n",
       "          [0.49019608, 0.4745098 , 0.45098039],\n",
       "          ...,\n",
       "          [0.70980392, 0.70588235, 0.69803922],\n",
       "          [0.79215686, 0.78823529, 0.77647059],\n",
       "          [0.83137255, 0.82745098, 0.81176471]],\n",
       " \n",
       "         [[0.47843137, 0.46666667, 0.44705882],\n",
       "          [0.4627451 , 0.45490196, 0.43137255],\n",
       "          [0.47058824, 0.45490196, 0.43529412],\n",
       "          ...,\n",
       "          [0.70196078, 0.69411765, 0.67843137],\n",
       "          [0.64313725, 0.64313725, 0.63529412],\n",
       "          [0.63921569, 0.63921569, 0.63137255]]]]),\n",
       " array([6, 9, 9, ..., 9, 1, 1], dtype=uint8)]"
      ]
     },
     "execution_count": 70,
     "metadata": {},
     "output_type": "execute_result"
    }
   ],
   "source": [
    "# Load the Model back from file\n",
    "with open(Pkl_Filename, 'rb') as file:  \n",
    "    Pickled_Model = pickle.load(file)\n",
    "\n",
    "Pickled_Model"
   ]
  },
  {
   "cell_type": "code",
   "execution_count": null,
   "metadata": {},
   "outputs": [],
   "source": []
  },
  {
   "cell_type": "code",
   "execution_count": null,
   "metadata": {},
   "outputs": [],
   "source": []
  }
 ],
 "metadata": {
  "kernelspec": {
   "display_name": "Python 3",
   "language": "python",
   "name": "python3"
  },
  "language_info": {
   "codemirror_mode": {
    "name": "ipython",
    "version": 3
   },
   "file_extension": ".py",
   "mimetype": "text/x-python",
   "name": "python",
   "nbconvert_exporter": "python",
   "pygments_lexer": "ipython3",
   "version": "3.8.8"
  }
 },
 "nbformat": 4,
 "nbformat_minor": 4
}
