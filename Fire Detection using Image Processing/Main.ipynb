{
 "cells": [
  {
   "cell_type": "markdown",
   "metadata": {
    "id": "_6XqmMKFCqkl"
   },
   "source": [
    "**Fire Detection using Image processing** "
   ]
  },
  {
   "cell_type": "code",
   "execution_count": 1,
   "metadata": {
    "id": "4q3m4uTgYaHD"
   },
   "outputs": [],
   "source": [
    "#importing libraries:\n",
    "import os  \n",
    "import cv2                                   \n",
    "import numpy as np                            \n",
    "from PIL import Image                # Python image library \n",
    "import matplotlib.pyplot as plt      # For data Visualization-plots\n",
    "%matplotlib inline \n",
    "from IPython.display import display  # For display\n",
    "\n",
    "import warnings                      # To ignore unnecessary python warnings \n",
    "warnings.filterwarnings('ignore')"
   ]
  },
  {
   "cell_type": "code",
   "execution_count": 2,
   "metadata": {
    "id": "Nn873tUEDxkR"
   },
   "outputs": [],
   "source": [
    "# Here we are using VGG16 model\n",
    "from keras.applications import VGG16                                            \n",
    "from keras.callbacks import ModelCheckpoint                # further to train the saved model \n",
    "from keras import models, layers, optimizers               # building DNN\n",
    "from tensorflow.keras.models import load_model             # To load saved model \n",
    "from keras.preprocessing.image import ImageDataGenerator     \n",
    "from imutils import paths "
   ]
  },
  {
   "cell_type": "code",
   "execution_count": 3,
   "metadata": {
    "colab": {
     "base_uri": "https://localhost:8080/"
    },
    "id": "XuQ07zf4EXXV",
    "outputId": "c106de79-d2cc-4a53-f3b9-13ccd88dd014"
   },
   "outputs": [
    {
     "name": "stdout",
     "output_type": "stream",
     "text": [
      "Downloading data from https://storage.googleapis.com/tensorflow/keras-applications/vgg16/vgg16_weights_tf_dim_ordering_tf_kernels_notop.h5\n",
      "58892288/58889256 [==============================] - 0s 0us/step\n"
     ]
    }
   ],
   "source": [
    "#classes = 2\n",
    "conv_layer = VGG16(weights='imagenet',             # Base layer\n",
    "                 include_top=False,\n",
    "                 input_shape=(128, 128, 3))\n",
    "\n",
    "model = models.Sequential()\n",
    "model.add(conv_layer)\n",
    "model.add(layers.Flatten())\n",
    "#model.add(layers.Dense(classes))\n",
    "model.add(layers.Dense(256, activation='relu'))\n",
    "model.add(layers.Dense(1, activation='sigmoid'))\n",
    "\n",
    "conv_layer.trainable = False\n",
    "\n",
    "model.compile(loss='binary_crossentropy', \n",
    "             optimizer=optimizers.RMSprop(lr=1e-4), \n",
    "             metrics=['accuracy'])"
   ]
  },
  {
   "cell_type": "code",
   "execution_count": 4,
   "metadata": {
    "colab": {
     "base_uri": "https://localhost:8080/"
    },
    "id": "xOI7Y9xXE63b",
    "outputId": "a57ad9b4-6490-4f6f-d06d-066093659a2f"
   },
   "outputs": [
    {
     "name": "stdout",
     "output_type": "stream",
     "text": [
      "Model: \"sequential\"\n",
      "_________________________________________________________________\n",
      "Layer (type)                 Output Shape              Param #   \n",
      "=================================================================\n",
      "vgg16 (Functional)           (None, 4, 4, 512)         14714688  \n",
      "_________________________________________________________________\n",
      "flatten (Flatten)            (None, 8192)              0         \n",
      "_________________________________________________________________\n",
      "dense (Dense)                (None, 256)               2097408   \n",
      "_________________________________________________________________\n",
      "dense_1 (Dense)              (None, 1)                 257       \n",
      "=================================================================\n",
      "Total params: 16,812,353\n",
      "Trainable params: 2,097,665\n",
      "Non-trainable params: 14,714,688\n",
      "_________________________________________________________________\n"
     ]
    }
   ],
   "source": [
    "# checking summary:\n",
    "model.summary()"
   ]
  },
  {
   "cell_type": "code",
   "execution_count": 5,
   "metadata": {
    "colab": {
     "base_uri": "https://localhost:8080/"
    },
    "id": "w7jr1uiKFDSv",
    "outputId": "f91b78d8-3cc3-41f8-aecc-95a4a3d57c73"
   },
   "outputs": [
    {
     "name": "stdout",
     "output_type": "stream",
     "text": [
      "Mounted at /content/drive/\n"
     ]
    }
   ],
   "source": [
    "# Mounting drive:\n",
    "from google.colab import drive\n",
    "drive.mount('/content/drive/')"
   ]
  },
  {
   "cell_type": "code",
   "execution_count": 6,
   "metadata": {
    "id": "nRgF_vVpFZ_V"
   },
   "outputs": [],
   "source": [
    "# Preparing Data:\n",
    "# I'm having two folders. One for testing and other for training. \n",
    "train_path = '/content/drive/MyDrive/RWDS/Train'\n",
    "train_fire = '/content/drive/MyDrive/RWDS/Train/train_fire'\n",
    "train_nofire ='/content/drive/MyDrive/RWDS/Train/train_nofire'\n",
    "test_path = '/content/drive/MyDrive/RWDS/Test'\n",
    "test_fire ='/content/drive/MyDrive/RWDS/Test/test_fire'\n",
    "test_nofire ='/content/drive/MyDrive/RWDS/Test/test_nofire'\n",
    "#Classes = [\"No-Fire\", \"Fire\"]"
   ]
  },
  {
   "cell_type": "code",
   "execution_count": 7,
   "metadata": {
    "colab": {
     "base_uri": "https://localhost:8080/"
    },
    "id": "dlQV_cyCGZUz",
    "outputId": "ea66e8e8-b522-4abd-9621-59816f39d24a"
   },
   "outputs": [
    {
     "name": "stdout",
     "output_type": "stream",
     "text": [
      "Found 3123 images belonging to 2 classes.\n",
      "Found 839 images belonging to 2 classes.\n"
     ]
    }
   ],
   "source": [
    "Train_datagen = ImageDataGenerator(rescale=1./255, \n",
    "                                  rotation_range=40,\n",
    "                                  width_shift_range=0.2,\n",
    "                                  height_shift_range=0.2,\n",
    "                                  shear_range=0.2,\n",
    "                                  zoom_range=0.2,\n",
    "                                  horizontal_flip=True)\n",
    "\n",
    "Test_datagen = ImageDataGenerator(rescale=1./255)\n",
    "\n",
    "train_generator = Train_datagen.flow_from_directory(train_path, \n",
    "                                                   target_size=(150, 150), \n",
    "                                                   batch_size=32,\n",
    "                                                   class_mode='binary')\n",
    "\n",
    "test_generator = Test_datagen.flow_from_directory(test_path, \n",
    "                                                   target_size=(150, 150), \n",
    "                                                   batch_size=32,\n",
    "                                                   class_mode='binary')\n"
   ]
  },
  {
   "cell_type": "code",
   "execution_count": 8,
   "metadata": {
    "colab": {
     "base_uri": "https://localhost:8080/"
    },
    "id": "DainrSY_JCpg",
    "outputId": "2854f774-79a4-4da1-8776-c0b2faf5d97c"
   },
   "outputs": [
    {
     "name": "stdout",
     "output_type": "stream",
     "text": [
      "Epoch 1/30\n",
      "98/98 [==============================] - 1330s 13s/step - loss: 0.5062 - accuracy: 0.7489 - val_loss: 0.2921 - val_accuracy: 0.8808\n",
      "Epoch 2/30\n",
      "98/98 [==============================] - 58s 593ms/step - loss: 0.3152 - accuracy: 0.8655 - val_loss: 0.3276 - val_accuracy: 0.8474\n",
      "Epoch 3/30\n",
      "98/98 [==============================] - 58s 592ms/step - loss: 0.2608 - accuracy: 0.8959 - val_loss: 0.3150 - val_accuracy: 0.8570\n",
      "Epoch 4/30\n",
      "98/98 [==============================] - 58s 590ms/step - loss: 0.2725 - accuracy: 0.8806 - val_loss: 0.3501 - val_accuracy: 0.8451\n",
      "Epoch 5/30\n",
      "98/98 [==============================] - 58s 592ms/step - loss: 0.2530 - accuracy: 0.8864 - val_loss: 0.3458 - val_accuracy: 0.8498\n",
      "Epoch 6/30\n",
      "98/98 [==============================] - 58s 587ms/step - loss: 0.2353 - accuracy: 0.8975 - val_loss: 0.2650 - val_accuracy: 0.8868\n",
      "Epoch 7/30\n",
      "98/98 [==============================] - 57s 588ms/step - loss: 0.2322 - accuracy: 0.9025 - val_loss: 0.2483 - val_accuracy: 0.8903\n",
      "Epoch 8/30\n",
      "98/98 [==============================] - 57s 582ms/step - loss: 0.2335 - accuracy: 0.9069 - val_loss: 0.2322 - val_accuracy: 0.8999\n",
      "Epoch 9/30\n",
      "98/98 [==============================] - 58s 589ms/step - loss: 0.2329 - accuracy: 0.9020 - val_loss: 0.3645 - val_accuracy: 0.8427\n",
      "Epoch 10/30\n",
      "98/98 [==============================] - 57s 580ms/step - loss: 0.2285 - accuracy: 0.9081 - val_loss: 0.2606 - val_accuracy: 0.8951\n",
      "Epoch 11/30\n",
      "98/98 [==============================] - 57s 586ms/step - loss: 0.2258 - accuracy: 0.9139 - val_loss: 0.2969 - val_accuracy: 0.8713\n",
      "Epoch 12/30\n",
      "98/98 [==============================] - 57s 581ms/step - loss: 0.2136 - accuracy: 0.9101 - val_loss: 0.2365 - val_accuracy: 0.8963\n",
      "Epoch 13/30\n",
      "98/98 [==============================] - 57s 585ms/step - loss: 0.2220 - accuracy: 0.9117 - val_loss: 0.2488 - val_accuracy: 0.8939\n",
      "Epoch 14/30\n",
      "98/98 [==============================] - 59s 601ms/step - loss: 0.2091 - accuracy: 0.9107 - val_loss: 0.3026 - val_accuracy: 0.8725\n",
      "Epoch 15/30\n",
      "98/98 [==============================] - 61s 625ms/step - loss: 0.1866 - accuracy: 0.9267 - val_loss: 0.2695 - val_accuracy: 0.8856\n",
      "Epoch 16/30\n",
      "98/98 [==============================] - 60s 615ms/step - loss: 0.1922 - accuracy: 0.9182 - val_loss: 0.3419 - val_accuracy: 0.8522\n",
      "Epoch 17/30\n",
      "98/98 [==============================] - 61s 627ms/step - loss: 0.1928 - accuracy: 0.9140 - val_loss: 0.2363 - val_accuracy: 0.9046\n",
      "Epoch 18/30\n",
      "98/98 [==============================] - 61s 624ms/step - loss: 0.2093 - accuracy: 0.9215 - val_loss: 0.2529 - val_accuracy: 0.8939\n",
      "Epoch 19/30\n",
      "98/98 [==============================] - 59s 603ms/step - loss: 0.1840 - accuracy: 0.9191 - val_loss: 0.2325 - val_accuracy: 0.9082\n",
      "Epoch 20/30\n",
      "98/98 [==============================] - 57s 579ms/step - loss: 0.1825 - accuracy: 0.9317 - val_loss: 0.2593 - val_accuracy: 0.8951\n",
      "Epoch 21/30\n",
      "98/98 [==============================] - 57s 579ms/step - loss: 0.1775 - accuracy: 0.9287 - val_loss: 0.2424 - val_accuracy: 0.8975\n",
      "Epoch 22/30\n",
      "98/98 [==============================] - 57s 578ms/step - loss: 0.1888 - accuracy: 0.9203 - val_loss: 0.2194 - val_accuracy: 0.9070\n",
      "Epoch 23/30\n",
      "98/98 [==============================] - 57s 582ms/step - loss: 0.1711 - accuracy: 0.9301 - val_loss: 0.2483 - val_accuracy: 0.8987\n",
      "Epoch 24/30\n",
      "98/98 [==============================] - 56s 578ms/step - loss: 0.1803 - accuracy: 0.9281 - val_loss: 0.2387 - val_accuracy: 0.9035\n",
      "Epoch 25/30\n",
      "98/98 [==============================] - 56s 578ms/step - loss: 0.1951 - accuracy: 0.9258 - val_loss: 0.2194 - val_accuracy: 0.9142\n",
      "Epoch 26/30\n",
      "98/98 [==============================] - 57s 583ms/step - loss: 0.1957 - accuracy: 0.9159 - val_loss: 0.2130 - val_accuracy: 0.9154\n",
      "Epoch 27/30\n",
      "98/98 [==============================] - 57s 587ms/step - loss: 0.1811 - accuracy: 0.9274 - val_loss: 0.2683 - val_accuracy: 0.8868\n",
      "Epoch 28/30\n",
      "98/98 [==============================] - 56s 578ms/step - loss: 0.1802 - accuracy: 0.9318 - val_loss: 0.2423 - val_accuracy: 0.9023\n",
      "Epoch 29/30\n",
      "98/98 [==============================] - 57s 584ms/step - loss: 0.2019 - accuracy: 0.9204 - val_loss: 0.2985 - val_accuracy: 0.8820\n",
      "Epoch 30/30\n",
      "98/98 [==============================] - 57s 575ms/step - loss: 0.1622 - accuracy: 0.9321 - val_loss: 0.2175 - val_accuracy: 0.9106\n"
     ]
    }
   ],
   "source": [
    "H = model.fit(train_generator, epochs=30, \n",
    "                     validation_data=test_generator)"
   ]
  },
  {
   "cell_type": "code",
   "execution_count": 9,
   "metadata": {
    "colab": {
     "base_uri": "https://localhost:8080/",
     "height": 316
    },
    "id": "McstZVLRXIrZ",
    "outputId": "2a0b6950-0f51-4f7e-a1c4-733c267319e6"
   },
   "outputs": [
    {
     "data": {
      "text/plain": [
       "<matplotlib.legend.Legend at 0x7f43b4ca5110>"
      ]
     },
     "execution_count": 9,
     "metadata": {
      "tags": []
     },
     "output_type": "execute_result"
    },
    {
     "data": {
      "image/png": "[encoded data removed]",
      "text/plain": [
       "<Figure size 432x288 with 1 Axes>"
      ]
     },
     "metadata": {
      "tags": []
     },
     "output_type": "display_data"
    }
   ],
   "source": [
    "N = np.arange(0, 30)\n",
    "plt.style.use(\"ggplot\")\n",
    "plt.figure()\n",
    "plt.plot(N, H.history[\"loss\"], label=\"train_loss\")\n",
    "plt.plot(N, H.history[\"val_loss\"], label=\"val_loss\")\n",
    "plt.plot(N, H.history[\"accuracy\"], label=\"train_acc\")\n",
    "plt.plot(N, H.history[\"val_accuracy\"], label=\"val_acc\")\n",
    "plt.title(\"Training Loss and Accuracy\")\n",
    "plt.xlabel(\"Epochs\")\n",
    "plt.ylabel(\"Loss/Accuracy\")\n",
    "plt.legend(loc=\"lower left\")"
   ]
  },
  {
   "cell_type": "code",
   "execution_count": 10,
   "metadata": {
    "colab": {
     "base_uri": "https://localhost:8080/"
    },
    "id": "3J356fD0nIFo",
    "outputId": "a37a249f-b441-496a-d385-737233bea5e3"
   },
   "outputs": [
    {
     "name": "stdout",
     "output_type": "stream",
     "text": [
      "INFO:tensorflow:Assets written to: Optimized_model/assets\n"
     ]
    }
   ],
   "source": [
    "model.save('Optimized_model.h5') "
   ]
  }
 ],
 "metadata": {
  "accelerator": "GPU",
  "colab": {
   "collapsed_sections": [],
   "name": "Untitled2.ipynb",
   "provenance": []
  },
  "kernelspec": {
   "display_name": "Python 3",
   "name": "python3"
  }
 },
 "nbformat": 4,
 "nbformat_minor": 0
}
