{
  "nbformat": 4,
  "nbformat_minor": 0,
  "metadata": {
    "colab": {
      "name": "CNN for Fashion MNIST Clothing Classification.ipynb",
      "provenance": [],
      "collapsed_sections": []
    },
    "kernelspec": {
      "name": "python3",
      "display_name": "Python 3"
    },
    "accelerator": "GPU"
  },
  "cells": [
    {
      "cell_type": "markdown",
      "metadata": {
        "id": "CXTh0F1PKlPi"
      },
      "source": [
        "# CNN for Fashion MNIST Clothing Classification"
      ]
    },
    {
      "cell_type": "markdown",
      "metadata": {
        "id": "64941Zo2TMib"
      },
      "source": [
        "##### **Convolutional Neural Network:** CNN is a class of deep neural networks, most commonly used for analyzing images.\n",
        "##### **Fashion MNIST Dataset:** Fashion MNIST is a dataset consisting of images with training set of 60,000 examples and a test set of 10,000 examples. Each example is a 28x28 grayscale image, associated with a label from 10 classes."
      ]
    },
    {
      "cell_type": "markdown",
      "metadata": {
        "id": "g8DXTLu4XrDL"
      },
      "source": [
        "### Importing Libraries"
      ]
    },
    {
      "cell_type": "code",
      "metadata": {
        "id": "oqGDgCNjXJL7"
      },
      "source": [
        "import keras\n",
        "from keras.datasets import fashion_mnist \n",
        "from keras.layers import Dense, Activation, Flatten, Conv2D, MaxPooling2D\n",
        "from keras.models import Sequential\n",
        "from keras.utils import to_categorical\n",
        "import numpy as np\n",
        "import matplotlib.pyplot as plt"
      ],
      "execution_count": 1,
      "outputs": []
    },
    {
      "cell_type": "markdown",
      "metadata": {
        "id": "pHwyQYykZMkg"
      },
      "source": [
        "### Importing the dataset"
      ]
    },
    {
      "cell_type": "code",
      "metadata": {
        "id": "zAnESWcWYC7J",
        "colab": {
          "base_uri": "https://localhost:8080/"
        },
        "outputId": "ca0be7ba-b34d-4c3d-d792-5392a2d16b57"
      },
      "source": [
        "(train_data,train_labels),(test_data,test_labels) = fashion_mnist.load_data()"
      ],
      "execution_count": 2,
      "outputs": [
        {
          "output_type": "stream",
          "text": [
            "Downloading data from https://storage.googleapis.com/tensorflow/tf-keras-datasets/train-labels-idx1-ubyte.gz\n",
            "32768/29515 [=================================] - 0s 0us/step\n",
            "Downloading data from https://storage.googleapis.com/tensorflow/tf-keras-datasets/train-images-idx3-ubyte.gz\n",
            "26427392/26421880 [==============================] - 0s 0us/step\n",
            "Downloading data from https://storage.googleapis.com/tensorflow/tf-keras-datasets/t10k-labels-idx1-ubyte.gz\n",
            "8192/5148 [===============================================] - 0s 0us/step\n",
            "Downloading data from https://storage.googleapis.com/tensorflow/tf-keras-datasets/t10k-images-idx3-ubyte.gz\n",
            "4423680/4422102 [==============================] - 0s 0us/step\n"
          ],
          "name": "stdout"
        }
      ]
    },
    {
      "cell_type": "code",
      "metadata": {
        "id": "44d3k8e4NEoN",
        "colab": {
          "base_uri": "https://localhost:8080/"
        },
        "outputId": "09c0651d-410c-41cc-d269-369d90892ab6"
      },
      "source": [
        "train_data.shape"
      ],
      "execution_count": 3,
      "outputs": [
        {
          "output_type": "execute_result",
          "data": {
            "text/plain": [
              "(60000, 28, 28)"
            ]
          },
          "metadata": {
            "tags": []
          },
          "execution_count": 3
        }
      ]
    },
    {
      "cell_type": "markdown",
      "metadata": {
        "id": "wyf92z3AZt2w"
      },
      "source": [
        "### Preprocessing"
      ]
    },
    {
      "cell_type": "code",
      "metadata": {
        "id": "Z0bqoN9tZnqo"
      },
      "source": [
        "train_data = train_data.reshape(-1,28,28,1)\n",
        "test_data = test_data.reshape(-1,28,28,1)"
      ],
      "execution_count": 4,
      "outputs": []
    },
    {
      "cell_type": "code",
      "metadata": {
        "id": "Ird6_YX6aEfR"
      },
      "source": [
        "train_data = train_data.astype('float32')/255    # Value of each pixel will range from 0 to 1 for improving learning rate of model\n",
        "test_data = test_data.astype('float32')/255"
      ],
      "execution_count": 5,
      "outputs": []
    },
    {
      "cell_type": "code",
      "metadata": {
        "id": "5tG90Fh5bi1J"
      },
      "source": [
        "# Using One Hot Encoding because we cannot work with categorical data directly\n",
        "train_labels_encoded = to_categorical(train_labels)\n",
        "test_labels_encoded = to_categorical(test_labels) "
      ],
      "execution_count": 6,
      "outputs": []
    },
    {
      "cell_type": "markdown",
      "metadata": {
        "id": "NGdBgOggcU1N"
      },
      "source": [
        "### Training the model"
      ]
    },
    {
      "cell_type": "code",
      "metadata": {
        "id": "alHBYi66cQbD"
      },
      "source": [
        "model = Sequential()\n",
        "model.add(Conv2D(128,(3,3),input_shape=(28,28,1)))    # Training using 128 neurons and a 3x3 feature detector\n",
        "model.add(Activation('relu'))                         # Using ReLU activation function\n",
        "model.add(MaxPooling2D(pool_size=(2,2)))              # Using Max Pooling to calculate the maximum value for each patch of the feature map\n",
        "model.add(Conv2D(128,(3,3)))\n",
        "model.add(Activation('relu'))\n",
        "model.add(MaxPooling2D(pool_size=(2,2)))\n",
        "model.add(Flatten())                                  # To input 2D data and output data in 1D\n",
        "model.add(Dense(128))                                 # Adding dense layers\n",
        "model.add(Dense(10))\n",
        "model.add(Activation('softmax'))   # Using softmax activation function for the last layer so that the result could be interpreted as a probability distribution\n",
        "model.compile(loss=keras.losses.categorical_crossentropy,optimizer=keras.optimizers.Adam(),metrics=['accuracy'])"
      ],
      "execution_count": 7,
      "outputs": []
    },
    {
      "cell_type": "code",
      "metadata": {
        "id": "bXKT6umdi-MB",
        "colab": {
          "base_uri": "https://localhost:8080/"
        },
        "outputId": "b9f7a00e-17c1-4d2b-fd45-837a638d824e"
      },
      "source": [
        "model.fit(train_data,train_labels_encoded,batch_size=128,epochs=10)"
      ],
      "execution_count": 8,
      "outputs": [
        {
          "output_type": "stream",
          "text": [
            "Epoch 1/10\n",
            "469/469 [==============================] - 37s 10ms/step - loss: 0.6604 - accuracy: 0.7607\n",
            "Epoch 2/10\n",
            "469/469 [==============================] - 4s 9ms/step - loss: 0.3074 - accuracy: 0.8887\n",
            "Epoch 3/10\n",
            "469/469 [==============================] - 4s 9ms/step - loss: 0.2615 - accuracy: 0.9065\n",
            "Epoch 4/10\n",
            "469/469 [==============================] - 4s 9ms/step - loss: 0.2259 - accuracy: 0.9182\n",
            "Epoch 5/10\n",
            "469/469 [==============================] - 4s 9ms/step - loss: 0.2150 - accuracy: 0.9205\n",
            "Epoch 6/10\n",
            "469/469 [==============================] - 4s 9ms/step - loss: 0.1935 - accuracy: 0.9306\n",
            "Epoch 7/10\n",
            "469/469 [==============================] - 4s 9ms/step - loss: 0.1732 - accuracy: 0.9366\n",
            "Epoch 8/10\n",
            "469/469 [==============================] - 4s 9ms/step - loss: 0.1611 - accuracy: 0.9412\n",
            "Epoch 9/10\n",
            "469/469 [==============================] - 4s 9ms/step - loss: 0.1417 - accuracy: 0.9501\n",
            "Epoch 10/10\n",
            "469/469 [==============================] - 4s 9ms/step - loss: 0.1286 - accuracy: 0.9525\n"
          ],
          "name": "stdout"
        },
        {
          "output_type": "execute_result",
          "data": {
            "text/plain": [
              "<tensorflow.python.keras.callbacks.History at 0x7fad401c96d0>"
            ]
          },
          "metadata": {
            "tags": []
          },
          "execution_count": 8
        }
      ]
    },
    {
      "cell_type": "code",
      "metadata": {
        "id": "O2OtJJm3kEh_",
        "colab": {
          "base_uri": "https://localhost:8080/"
        },
        "outputId": "fb2c30d6-0b16-4a9c-9058-f3c969ab1313"
      },
      "source": [
        "test_loss, test_acc = model.evaluate(test_data, test_labels_encoded)\n",
        "print('Test loss:', test_loss)\n",
        "print('Test accuracy:', test_acc)"
      ],
      "execution_count": 9,
      "outputs": [
        {
          "output_type": "stream",
          "text": [
            "313/313 [==============================] - 1s 3ms/step - loss: 0.2737 - accuracy: 0.9053\n",
            "Test loss: 0.27368462085723877\n",
            "Test accuracy: 0.9053000211715698\n"
          ],
          "name": "stdout"
        }
      ]
    },
    {
      "cell_type": "markdown",
      "metadata": {
        "id": "8yJro6AjlA3T"
      },
      "source": [
        "### Predicting Results"
      ]
    },
    {
      "cell_type": "code",
      "metadata": {
        "id": "tF4kxRS9k1Q7"
      },
      "source": [
        "predictions = model.predict(test_data)"
      ],
      "execution_count": 10,
      "outputs": []
    },
    {
      "cell_type": "code",
      "metadata": {
        "id": "ONEpJjzslg_U",
        "colab": {
          "base_uri": "https://localhost:8080/"
        },
        "outputId": "a6362817-0ddd-49c7-9980-eb483d3ac77f"
      },
      "source": [
        "# Printing the very first prediction\n",
        "print(np.argmax(np.round(predictions[0])))"
      ],
      "execution_count": 11,
      "outputs": [
        {
          "output_type": "stream",
          "text": [
            "9\n"
          ],
          "name": "stdout"
        }
      ]
    },
    {
      "cell_type": "code",
      "metadata": {
        "id": "2CgVC2a6mwVu",
        "colab": {
          "base_uri": "https://localhost:8080/"
        },
        "outputId": "a511c8fc-4efa-4d30-ed3b-9174a47f35ef"
      },
      "source": [
        "print(test_labels[0])   # This verifies that the prediction is correct"
      ],
      "execution_count": 12,
      "outputs": [
        {
          "output_type": "stream",
          "text": [
            "9\n"
          ],
          "name": "stdout"
        }
      ]
    },
    {
      "cell_type": "code",
      "metadata": {
        "id": "j2yPUEPFmPrb",
        "colab": {
          "base_uri": "https://localhost:8080/",
          "height": 265
        },
        "outputId": "780d87f3-0e52-4df1-9991-5c1e5c9dcd3c"
      },
      "source": [
        "# Displaying the first image\n",
        "plt.imshow(test_data[0].reshape(28,28),cmap = plt.cm.binary)\n",
        "plt.show()"
      ],
      "execution_count": 13,
      "outputs": [
        {
          "output_type": "display_data",
          "data": {
            "image/png": "[encoded data removed]",
            "text/plain": [
              "<Figure size 432x288 with 1 Axes>"
            ]
          },
          "metadata": {
            "tags": [],
            "needs_background": "light"
          }
        }
      ]
    },
    {
      "cell_type": "markdown",
      "metadata": {
        "id": "Q6InquRx0OWo"
      },
      "source": [
        "### Getting the pkl File"
      ]
    },
    {
      "cell_type": "code",
      "metadata": {
        "id": "oQwXAM1Q0BzZ"
      },
      "source": [
        "import pickle\n",
        "weigh= model.get_weights();    pklfile= \"FashionMNISTClassifier.pkl\"\n",
        "fpkl= open(pklfile, 'wb')     \n",
        "pickle.dump(weigh, fpkl, protocol= pickle.HIGHEST_PROTOCOL)\n",
        "fpkl.close()"
      ],
      "execution_count": 22,
      "outputs": []
    }
  ]
}