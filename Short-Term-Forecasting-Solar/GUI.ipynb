{
 "cells": [
  {
   "cell_type": "code",
   "execution_count": 2,
   "metadata": {},
   "outputs": [],
   "source": [
    "import joblib\n",
    "model = joblib.load(r'C:\\Users\\Dishita Neve\\Downloads\\Global-Horizontal-Irradiance.pkl')"
   ]
  },
  {
   "cell_type": "code",
   "execution_count": 3,
   "metadata": {},
   "outputs": [],
   "source": [
    "import tkinter as tk \n",
    "from matplotlib.backends.backend_tkagg import FigureCanvasTkAgg"
   ]
  },
  {
   "cell_type": "code",
   "execution_count": 4,
   "metadata": {},
   "outputs": [],
   "source": [
    "root = tk.Tk()"
   ]
  },
  {
   "cell_type": "code",
   "execution_count": 5,
   "metadata": {},
   "outputs": [],
   "source": [
    "canvas1 = tk.Canvas(root, width = 500, height = 280)\n",
    "canvas1.pack()"
   ]
  },
  {
   "cell_type": "code",
   "execution_count": 6,
   "metadata": {},
   "outputs": [
    {
     "data": {
      "text/plain": [
       "1"
      ]
     },
     "execution_count": 6,
     "metadata": {},
     "output_type": "execute_result"
    }
   ],
   "source": [
    "heading = tk.Label(root, text='GLOBAL HORIZONTAL IRRADIANCE PREDICTION', justify = 'center')\n",
    "canvas1.create_window(260, 50, window=heading)"
   ]
  },
  {
   "cell_type": "code",
   "execution_count": 7,
   "metadata": {},
   "outputs": [
    {
     "data": {
      "text/plain": [
       "9"
      ]
     },
     "execution_count": 7,
     "metadata": {},
     "output_type": "execute_result"
    }
   ],
   "source": [
    "# DNI label and input box\n",
    "label1 = tk.Label(root, text='DNI: ', justify = 'left')\n",
    "canvas1.create_window(100, 100, window=label1)\n",
    "\n",
    "entry1 = tk.Entry (root) # 1st entry box\n",
    "canvas1.create_window(300, 100, window=entry1)\n",
    "\n",
    "# Clearsky DHI label and input box\n",
    "label2 = tk.Label(root, text='Clearsky DHI: ', justify = 'left')\n",
    "canvas1.create_window(100, 120, window=label2)\n",
    "\n",
    "entry2 = tk.Entry (root) # 2st entry box\n",
    "canvas1.create_window(300, 120, window=entry2)\n",
    "\n",
    "# Clearsky GHI label and input box\n",
    "label3 = tk.Label(root, text='GHI: ', justify = 'left')\n",
    "canvas1.create_window(100, 140, window=label3)\n",
    "\n",
    "entry3 = tk.Entry (root) # 3st entry box\n",
    "canvas1.create_window(300, 140, window=entry3)\n",
    "\n",
    "# Clearsky Dew Point label and input box\n",
    "label4 = tk.Label(root, text='Dew Point: ', justify = 'left')\n",
    "canvas1.create_window(100, 160, window=label4)\n",
    "\n",
    "entry4 = tk.Entry (root) # 4st entry box\n",
    "canvas1.create_window(300, 160, window=entry4)"
   ]
  },
  {
   "cell_type": "code",
   "execution_count": 8,
   "metadata": {},
   "outputs": [],
   "source": [
    "def values(): \n",
    "    global DNI # our 1st input variable\n",
    "    DNI = float(entry1.get()) \n",
    "    \n",
    "    global ClearskyDHI # our 2nd input variable\n",
    "    ClearskyDHI = float(entry2.get()) \n",
    "\n",
    "    global ClearskyGHI # our 3rd input variable\n",
    "    ClearskyGHI = float(entry3.get())\n",
    "\n",
    "    global DewPoint # our 4th input variable\n",
    "    DewPoint = float(entry4.get())\n",
    "    \n",
    "    Prediction_result  = ('Global Horizontal Irradiance Prediction: ', reg.predict([[temp, humidity, windir, speed]]))\n",
    "    label_Prediction = tk.Label(root, text= Prediction_result, bg='orange')\n",
    "    canvas1.create_window(260, 280, window=label_Prediction)"
   ]
  },
  {
   "cell_type": "code",
   "execution_count": 9,
   "metadata": {},
   "outputs": [
    {
     "data": {
      "text/plain": [
       "10"
      ]
     },
     "execution_count": 9,
     "metadata": {},
     "output_type": "execute_result"
    }
   ],
   "source": [
    "button1 = tk.Button (root, text='Predict Solar Radiation',command=values, bg='orange') # button to call the 'values' command above \n",
    "canvas1.create_window(230, 200, window=button1)"
   ]
  },
  {
   "cell_type": "code",
   "execution_count": 11,
   "metadata": {},
   "outputs": [],
   "source": [
    "root.mainloop()"
   ]
  },
  {
   "cell_type": "code",
   "execution_count": 12,
   "metadata": {},
   "outputs": [],
   "source": [
    "# You will get UI after running whole code"
   ]
  }
 ],
 "metadata": {
  "kernelspec": {
   "display_name": "Python 3",
   "language": "python",
   "name": "python3"
  },
  "language_info": {
   "codemirror_mode": {
    "name": "ipython",
    "version": 3
   },
   "file_extension": ".py",
   "mimetype": "text/x-python",
   "name": "python",
   "nbconvert_exporter": "python",
   "pygments_lexer": "ipython3",
   "version": "3.8.5"
  }
 },
 "nbformat": 4,
 "nbformat_minor": 4
}
