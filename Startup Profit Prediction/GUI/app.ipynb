{
 "cells": [
  {
   "cell_type": "code",
   "execution_count": 1,
   "metadata": {},
   "outputs": [],
   "source": [
    "import joblib\n",
    "model = joblib.load(r'C:\\Users\\DELL\\Desktop\\Kaggle+HE\\Github GSSoC21\\Startup Profit Prediction TBD\\Model\\StartupProfitPrediction.pkl')"
   ]
  },
  {
   "cell_type": "markdown",
   "metadata": {},
   "source": [
    "### GUI"
   ]
  },
  {
   "cell_type": "code",
   "execution_count": 2,
   "metadata": {},
   "outputs": [],
   "source": [
    "import tkinter as tk \n",
    "from matplotlib.backends.backend_tkagg import FigureCanvasTkAgg"
   ]
  },
  {
   "cell_type": "code",
   "execution_count": 3,
   "metadata": {},
   "outputs": [],
   "source": [
    "root = tk.Tk()"
   ]
  },
  {
   "cell_type": "code",
   "execution_count": 4,
   "metadata": {},
   "outputs": [],
   "source": [
    "canvas1 = tk.Canvas(root, width = 500, height = 280)\n",
    "canvas1.pack()"
   ]
  },
  {
   "cell_type": "code",
   "execution_count": 5,
   "metadata": {},
   "outputs": [
    {
     "data": {
      "text/plain": [
       "1"
      ]
     },
     "execution_count": 5,
     "metadata": {},
     "output_type": "execute_result"
    }
   ],
   "source": [
    "heading = tk.Label(root, text='STARTUP PROFIT PREDICTION', justify = 'center')\n",
    "canvas1.create_window(260, 50, window=heading)"
   ]
  },
  {
   "cell_type": "code",
   "execution_count": 6,
   "metadata": {},
   "outputs": [
    {
     "data": {
      "text/plain": [
       "9"
      ]
     },
     "execution_count": 6,
     "metadata": {},
     "output_type": "execute_result"
    }
   ],
   "source": [
    "# R&D Spend label and input box\n",
    "label1 = tk.Label(root, text='R&D Spend: ', justify = 'left')\n",
    "canvas1.create_window(150, 100, window=label1)\n",
    "\n",
    "entry1 = tk.Entry (root) # 1st entry box\n",
    "canvas1.create_window(300, 100, window=entry1)\n",
    "\n",
    "# Administration label and input box\n",
    "label2 = tk.Label(root, text='Administration: ', justify = 'left')\n",
    "canvas1.create_window(150, 120, window=label2)\n",
    "\n",
    "entry2 = tk.Entry (root) # 2nd entry box\n",
    "canvas1.create_window(300, 120, window=entry2)\n",
    "\n",
    "# Marketing Spend label and input box\n",
    "label3 = tk.Label(root, text='Marketing Spend: ', justify = 'left')\n",
    "canvas1.create_window(150, 140, window=label3)\n",
    "\n",
    "entry3 = tk.Entry (root) # 3rd entry box\n",
    "canvas1.create_window(300, 140, window=entry3)\n",
    "\n",
    "# State label and input box\n",
    "label4 = tk.Label(root, text='State: ', justify = 'left')\n",
    "canvas1.create_window(150, 160, window=label4)\n",
    "\n",
    "entry4 = tk.Entry (root) # 4th entry box\n",
    "canvas1.create_window(300, 160, window=entry4)"
   ]
  },
  {
   "cell_type": "code",
   "execution_count": 7,
   "metadata": {},
   "outputs": [],
   "source": [
    "def values(): \n",
    "    \n",
    "    global rd # our 2nd input variable\n",
    "    rd = float(entry1.get()) \n",
    "\n",
    "    global a # our 3rd input variable\n",
    "    a = float(entry2.get())\n",
    "\n",
    "    global m # our 4th input variable\n",
    "    m = float(entry3.get())\n",
    "    \n",
    "    global s # our 1st input variable\n",
    "    s = (entry4.get()) \n",
    "    if s == 'California':\n",
    "        st = 0\n",
    "    elif s == 'Florida':\n",
    "        st = 1\n",
    "    elif s == 'New York':\n",
    "        st = 2\n",
    "    \n",
    "    Prediction_result  = ('Predicted Startup Profit: ', model.predict([[rd, a, m, st]]))\n",
    "    label_Prediction = tk.Label(root, text= Prediction_result, bg='orange')\n",
    "    canvas1.create_window(260, 240, window=label_Prediction)"
   ]
  },
  {
   "cell_type": "code",
   "execution_count": 8,
   "metadata": {},
   "outputs": [
    {
     "data": {
      "text/plain": [
       "10"
      ]
     },
     "execution_count": 8,
     "metadata": {},
     "output_type": "execute_result"
    }
   ],
   "source": [
    "button1 = tk.Button (root, text='Predict Startup Profit',command=values, bg='orange') # button to call the 'values' command above \n",
    "canvas1.create_window(260, 200, window=button1)"
   ]
  },
  {
   "cell_type": "code",
   "execution_count": 9,
   "metadata": {},
   "outputs": [],
   "source": [
    "root.mainloop()"
   ]
  }
 ],
 "metadata": {
  "kernelspec": {
   "display_name": "Python 3",
   "language": "python",
   "name": "python3"
  },
  "language_info": {
   "codemirror_mode": {
    "name": "ipython",
    "version": 3
   },
   "file_extension": ".py",
   "mimetype": "text/x-python",
   "name": "python",
   "nbconvert_exporter": "python",
   "pygments_lexer": "ipython3",
   "version": "3.8.5"
  }
 },
 "nbformat": 4,
 "nbformat_minor": 4
}
